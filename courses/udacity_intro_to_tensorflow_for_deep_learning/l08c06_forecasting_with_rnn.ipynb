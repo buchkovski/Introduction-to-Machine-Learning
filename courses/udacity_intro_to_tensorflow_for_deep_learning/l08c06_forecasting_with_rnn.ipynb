{
  "cells": [
    {
      "cell_type": "markdown",
      "metadata": {
        "id": "Za8-Nr5k11fh"
      },
      "source": [
        "##### Copyright 2018 The TensorFlow Authors."
      ]
    },
    {
      "cell_type": "code",
      "execution_count": null,
      "metadata": {
        "cellView": "form",
        "id": "Eq10uEbw0E4l"
      },
      "outputs": [],
      "source": [
        "#@title Licensed under the Apache License, Version 2.0 (the \"License\");\n",
        "# you may not use this file except in compliance with the License.\n",
        "# You may obtain a copy of the License at\n",
        "#\n",
        "# https://www.apache.org/licenses/LICENSE-2.0\n",
        "#\n",
        "# Unless required by applicable law or agreed to in writing, software\n",
        "# distributed under the License is distributed on an \"AS IS\" BASIS,\n",
        "# WITHOUT WARRANTIES OR CONDITIONS OF ANY KIND, either express or implied.\n",
        "# See the License for the specific language governing permissions and\n",
        "# limitations under the License."
      ]
    },
    {
      "cell_type": "markdown",
      "metadata": {
        "id": "nuRx7K-sirJr"
      },
      "source": [
        "# Forecasting with an RNN"
      ]
    },
    {
      "cell_type": "markdown",
      "metadata": {
        "id": "97jsq1rHh2Ds"
      },
      "source": [
        "<table class=\"tfo-notebook-buttons\" align=\"left\">\n",
        "  <td>\n",
        "    <a target=\"_blank\" href=\"https://colab.research.google.com/github/tensorflow/examples/blob/master/courses/udacity_intro_to_tensorflow_for_deep_learning/l08c06_forecasting_with_rnn.ipynb\"><img src=\"https://www.tensorflow.org/images/colab_logo_32px.png\" />Run in Google Colab</a>\n",
        "  </td>\n",
        "  <td>\n",
        "    <a target=\"_blank\" href=\"https://github.com/tensorflow/examples/blob/master/courses/udacity_intro_to_tensorflow_for_deep_learning/l08c06_forecasting_with_rnn.ipynb\"><img src=\"https://www.tensorflow.org/images/GitHub-Mark-32px.png\" />View source on GitHub</a>\n",
        "  </td>\n",
        "</table>"
      ]
    },
    {
      "cell_type": "markdown",
      "metadata": {
        "id": "vidayERjaO5q"
      },
      "source": [
        "## Setup"
      ]
    },
    {
      "cell_type": "code",
      "execution_count": 1,
      "metadata": {
        "id": "gqWabzlJ63nL"
      },
      "outputs": [],
      "source": [
        "import numpy as np\n",
        "import matplotlib.pyplot as plt\n",
        "import tensorflow as tf\n",
        "\n",
        "keras = tf.keras"
      ]
    },
    {
      "cell_type": "code",
      "execution_count": 2,
      "metadata": {
        "id": "cg1hfKCPldZG"
      },
      "outputs": [],
      "source": [
        "def plot_series(time, series, format=\"-\", start=0, end=None, label=None):\n",
        "    plt.plot(time[start:end], series[start:end], format, label=label)\n",
        "    plt.xlabel(\"Time\")\n",
        "    plt.ylabel(\"Value\")\n",
        "    if label:\n",
        "        plt.legend(fontsize=14)\n",
        "    plt.grid(True)\n",
        "    \n",
        "def trend(time, slope=0):\n",
        "    return slope * time\n",
        "  \n",
        "  \n",
        "def seasonal_pattern(season_time):\n",
        "    \"\"\"Just an arbitrary pattern, you can change it if you wish\"\"\"\n",
        "    return np.where(season_time < 0.4,\n",
        "                    np.cos(season_time * 2 * np.pi),\n",
        "                    1 / np.exp(3 * season_time))\n",
        "\n",
        "  \n",
        "def seasonality(time, period, amplitude=1, phase=0):\n",
        "    \"\"\"Repeats the same pattern at each period\"\"\"\n",
        "    season_time = ((time + phase) % period) / period\n",
        "    return amplitude * seasonal_pattern(season_time)\n",
        "  \n",
        "  \n",
        "def white_noise(time, noise_level=1, seed=None):\n",
        "    rnd = np.random.RandomState(seed)\n",
        "    return rnd.randn(len(time)) * noise_level\n",
        "  \n",
        "  \n",
        "def window_dataset(series, window_size, batch_size=32,\n",
        "                   shuffle_buffer=1000):\n",
        "    dataset = tf.data.Dataset.from_tensor_slices(series)\n",
        "    dataset = dataset.window(window_size + 1, shift=1, drop_remainder=True)\n",
        "    dataset = dataset.flat_map(lambda window: window.batch(window_size + 1))\n",
        "    dataset = dataset.shuffle(shuffle_buffer)\n",
        "    dataset = dataset.map(lambda window: (window[:-1], window[-1]))\n",
        "    dataset = dataset.batch(batch_size).prefetch(1)\n",
        "    return dataset\n",
        "  \n",
        "def model_forecast(model, series, window_size):\n",
        "    ds = tf.data.Dataset.from_tensor_slices(series)\n",
        "    ds = ds.window(window_size, shift=1, drop_remainder=True)\n",
        "    ds = ds.flat_map(lambda w: w.batch(window_size))\n",
        "    ds = ds.batch(32).prefetch(1)\n",
        "    forecast = model.predict(ds)\n",
        "    return forecast"
      ]
    },
    {
      "cell_type": "code",
      "execution_count": 3,
      "metadata": {
        "id": "iL2DDjV3lel6",
        "outputId": "efbf2832-bb91-4ad9-bf46-4edbb3d88704",
        "colab": {
          "base_uri": "https://localhost:8080/",
          "height": 0
        }
      },
      "outputs": [
        {
          "output_type": "display_data",
          "data": {
            "text/plain": [
              "<Figure size 1000x600 with 1 Axes>"
            ],
            "image/png": "[encoded data removed]"
          },
          "metadata": {}
        }
      ],
      "source": [
        "time = np.arange(4 * 365 + 1)\n",
        "\n",
        "slope = 0.05\n",
        "baseline = 10\n",
        "amplitude = 40\n",
        "series = baseline + trend(time, slope) + seasonality(time, period=365, amplitude=amplitude)\n",
        "\n",
        "noise_level = 5\n",
        "noise = white_noise(time, noise_level, seed=42)\n",
        "\n",
        "series += noise\n",
        "\n",
        "plt.figure(figsize=(10, 6))\n",
        "plot_series(time, series)\n",
        "plt.show()"
      ]
    },
    {
      "cell_type": "code",
      "execution_count": 4,
      "metadata": {
        "id": "Zmp1JXKxk9Vb"
      },
      "outputs": [],
      "source": [
        "split_time = 1000\n",
        "time_train = time[:split_time]\n",
        "x_train = series[:split_time]\n",
        "time_valid = time[split_time:]\n",
        "x_valid = series[split_time:]"
      ]
    },
    {
      "cell_type": "markdown",
      "metadata": {
        "id": "vDs_w3kZ8OIw"
      },
      "source": [
        "## Simple RNN Forecasting"
      ]
    },
    {
      "cell_type": "code",
      "execution_count": 5,
      "metadata": {
        "id": "YU4xRp9G8OIx",
        "outputId": "d6580715-0e66-429f-e292-017171c07f37",
        "colab": {
          "base_uri": "https://localhost:8080/"
        }
      },
      "outputs": [
        {
          "output_type": "stream",
          "name": "stderr",
          "text": [
            "WARNING:absl:`lr` is deprecated in Keras optimizer, please use `learning_rate` or use the legacy optimizer, e.g.,tf.keras.optimizers.legacy.SGD.\n"
          ]
        },
        {
          "output_type": "stream",
          "name": "stdout",
          "text": [
            "Epoch 1/100\n",
            "8/8 [==============================] - 7s 351ms/step - loss: 52.3087 - mae: 52.8083 - lr: 1.0000e-07\n",
            "Epoch 2/100\n",
            "8/8 [==============================] - 1s 86ms/step - loss: 21.8880 - mae: 22.3826 - lr: 1.1220e-07\n",
            "Epoch 3/100\n",
            "8/8 [==============================] - 1s 79ms/step - loss: 22.4838 - mae: 22.9766 - lr: 1.2589e-07\n",
            "Epoch 4/100\n",
            "8/8 [==============================] - 1s 68ms/step - loss: 18.0948 - mae: 18.5876 - lr: 1.4125e-07\n",
            "Epoch 5/100\n",
            "8/8 [==============================] - 1s 75ms/step - loss: 17.0092 - mae: 17.5029 - lr: 1.5849e-07\n",
            "Epoch 6/100\n",
            "8/8 [==============================] - 1s 89ms/step - loss: 15.7584 - mae: 16.2468 - lr: 1.7783e-07\n",
            "Epoch 7/100\n",
            "8/8 [==============================] - 1s 85ms/step - loss: 14.8509 - mae: 15.3437 - lr: 1.9953e-07\n",
            "Epoch 8/100\n",
            "8/8 [==============================] - 2s 122ms/step - loss: 14.4937 - mae: 14.9802 - lr: 2.2387e-07\n",
            "Epoch 9/100\n",
            "8/8 [==============================] - 2s 139ms/step - loss: 14.0566 - mae: 14.5478 - lr: 2.5119e-07\n",
            "Epoch 10/100\n",
            "8/8 [==============================] - 1s 81ms/step - loss: 13.5136 - mae: 14.0017 - lr: 2.8184e-07\n",
            "Epoch 11/100\n",
            "8/8 [==============================] - 1s 74ms/step - loss: 13.1234 - mae: 13.6117 - lr: 3.1623e-07\n",
            "Epoch 12/100\n",
            "8/8 [==============================] - 0s 40ms/step - loss: 12.7266 - mae: 13.2151 - lr: 3.5481e-07\n",
            "Epoch 13/100\n",
            "8/8 [==============================] - 0s 41ms/step - loss: 12.3762 - mae: 12.8623 - lr: 3.9811e-07\n",
            "Epoch 14/100\n",
            "8/8 [==============================] - 0s 40ms/step - loss: 12.0122 - mae: 12.4993 - lr: 4.4668e-07\n",
            "Epoch 15/100\n",
            "8/8 [==============================] - 0s 40ms/step - loss: 11.5540 - mae: 12.0439 - lr: 5.0119e-07\n",
            "Epoch 16/100\n",
            "8/8 [==============================] - 0s 40ms/step - loss: 11.0219 - mae: 11.5079 - lr: 5.6234e-07\n",
            "Epoch 17/100\n",
            "8/8 [==============================] - 0s 37ms/step - loss: 10.5649 - mae: 11.0487 - lr: 6.3096e-07\n",
            "Epoch 18/100\n",
            "8/8 [==============================] - 0s 39ms/step - loss: 10.1274 - mae: 10.6092 - lr: 7.0795e-07\n",
            "Epoch 19/100\n",
            "8/8 [==============================] - 0s 42ms/step - loss: 9.8561 - mae: 10.3362 - lr: 7.9433e-07\n",
            "Epoch 20/100\n",
            "8/8 [==============================] - 0s 44ms/step - loss: 9.4315 - mae: 9.9144 - lr: 8.9125e-07\n",
            "Epoch 21/100\n",
            "8/8 [==============================] - 0s 39ms/step - loss: 9.2160 - mae: 9.6966 - lr: 1.0000e-06\n",
            "Epoch 22/100\n",
            "8/8 [==============================] - 0s 40ms/step - loss: 9.0243 - mae: 9.5031 - lr: 1.1220e-06\n",
            "Epoch 23/100\n",
            "8/8 [==============================] - 0s 37ms/step - loss: 8.7706 - mae: 9.2515 - lr: 1.2589e-06\n",
            "Epoch 24/100\n",
            "8/8 [==============================] - 0s 41ms/step - loss: 8.4193 - mae: 8.8983 - lr: 1.4125e-06\n",
            "Epoch 25/100\n",
            "8/8 [==============================] - 0s 42ms/step - loss: 8.5016 - mae: 8.9853 - lr: 1.5849e-06\n",
            "Epoch 26/100\n",
            "8/8 [==============================] - 1s 76ms/step - loss: 8.1271 - mae: 8.6021 - lr: 1.7783e-06\n",
            "Epoch 27/100\n",
            "8/8 [==============================] - 1s 74ms/step - loss: 8.0556 - mae: 8.5376 - lr: 1.9953e-06\n",
            "Epoch 28/100\n",
            "8/8 [==============================] - 1s 65ms/step - loss: 8.1400 - mae: 8.6205 - lr: 2.2387e-06\n",
            "Epoch 29/100\n",
            "8/8 [==============================] - 0s 43ms/step - loss: 8.7891 - mae: 9.2706 - lr: 2.5119e-06\n",
            "Epoch 30/100\n",
            "8/8 [==============================] - 0s 45ms/step - loss: 8.3823 - mae: 8.8654 - lr: 2.8184e-06\n",
            "Epoch 31/100\n",
            "8/8 [==============================] - 0s 40ms/step - loss: 16.2037 - mae: 16.6989 - lr: 3.1623e-06\n",
            "Epoch 32/100\n",
            "8/8 [==============================] - 0s 45ms/step - loss: 17.1298 - mae: 17.6260 - lr: 3.5481e-06\n",
            "Epoch 33/100\n",
            "8/8 [==============================] - 0s 43ms/step - loss: 16.2874 - mae: 16.7812 - lr: 3.9811e-06\n",
            "Epoch 34/100\n",
            "8/8 [==============================] - 0s 44ms/step - loss: 16.8222 - mae: 17.3190 - lr: 4.4668e-06\n",
            "Epoch 35/100\n",
            "8/8 [==============================] - 0s 42ms/step - loss: 16.1189 - mae: 16.6152 - lr: 5.0119e-06\n",
            "Epoch 36/100\n",
            "8/8 [==============================] - 1s 45ms/step - loss: 17.0188 - mae: 17.5128 - lr: 5.6234e-06\n",
            "Epoch 37/100\n",
            "8/8 [==============================] - 1s 47ms/step - loss: 17.9451 - mae: 18.4428 - lr: 6.3096e-06\n",
            "Epoch 38/100\n",
            "8/8 [==============================] - 0s 41ms/step - loss: 11.6964 - mae: 12.1880 - lr: 7.0795e-06\n",
            "Epoch 39/100\n",
            "8/8 [==============================] - 0s 41ms/step - loss: 10.6147 - mae: 11.1046 - lr: 7.9433e-06\n",
            "Epoch 40/100\n",
            "8/8 [==============================] - 0s 43ms/step - loss: 11.6610 - mae: 12.1523 - lr: 8.9125e-06\n",
            "Epoch 41/100\n",
            "8/8 [==============================] - 1s 45ms/step - loss: 13.1402 - mae: 13.6331 - lr: 1.0000e-05\n",
            "Epoch 42/100\n",
            "8/8 [==============================] - 0s 45ms/step - loss: 32.7397 - mae: 33.2384 - lr: 1.1220e-05\n",
            "Epoch 43/100\n",
            "8/8 [==============================] - 0s 44ms/step - loss: 26.3268 - mae: 26.8262 - lr: 1.2589e-05\n",
            "Epoch 44/100\n",
            "8/8 [==============================] - 0s 45ms/step - loss: 28.0410 - mae: 28.5392 - lr: 1.4125e-05\n",
            "Epoch 45/100\n",
            "8/8 [==============================] - 0s 43ms/step - loss: 29.3176 - mae: 29.8149 - lr: 1.5849e-05\n",
            "Epoch 46/100\n",
            "8/8 [==============================] - 1s 71ms/step - loss: 22.5422 - mae: 23.0364 - lr: 1.7783e-05\n",
            "Epoch 47/100\n",
            "8/8 [==============================] - 1s 70ms/step - loss: 54.0425 - mae: 54.5414 - lr: 1.9953e-05\n",
            "Epoch 48/100\n",
            "8/8 [==============================] - 0s 38ms/step - loss: 66.6460 - mae: 67.1446 - lr: 2.2387e-05\n",
            "Epoch 49/100\n",
            "8/8 [==============================] - 0s 40ms/step - loss: 87.7702 - mae: 88.2693 - lr: 2.5119e-05\n",
            "Epoch 50/100\n",
            "8/8 [==============================] - 0s 43ms/step - loss: 103.6211 - mae: 104.1199 - lr: 2.8184e-05\n",
            "Epoch 51/100\n",
            "8/8 [==============================] - 0s 44ms/step - loss: 55.6583 - mae: 56.1570 - lr: 3.1623e-05\n",
            "Epoch 52/100\n",
            "8/8 [==============================] - 0s 41ms/step - loss: 50.0148 - mae: 50.5105 - lr: 3.5481e-05\n",
            "Epoch 53/100\n",
            "8/8 [==============================] - 0s 40ms/step - loss: 116.0572 - mae: 116.5553 - lr: 3.9811e-05\n",
            "Epoch 54/100\n",
            "8/8 [==============================] - 0s 40ms/step - loss: 99.0261 - mae: 99.5261 - lr: 4.4668e-05\n",
            "Epoch 55/100\n",
            "8/8 [==============================] - 0s 44ms/step - loss: 109.3474 - mae: 109.8474 - lr: 5.0119e-05\n",
            "Epoch 56/100\n",
            "8/8 [==============================] - 0s 39ms/step - loss: 65.4936 - mae: 65.9927 - lr: 5.6234e-05\n",
            "Epoch 57/100\n",
            "8/8 [==============================] - 0s 40ms/step - loss: 90.5809 - mae: 91.0779 - lr: 6.3096e-05\n",
            "Epoch 58/100\n",
            "8/8 [==============================] - 0s 37ms/step - loss: 53.9460 - mae: 54.4440 - lr: 7.0795e-05\n",
            "Epoch 59/100\n",
            "8/8 [==============================] - 0s 40ms/step - loss: 69.8813 - mae: 70.3774 - lr: 7.9433e-05\n",
            "Epoch 60/100\n",
            "8/8 [==============================] - 0s 38ms/step - loss: 143.8959 - mae: 144.3957 - lr: 8.9125e-05\n",
            "Epoch 61/100\n",
            "8/8 [==============================] - 0s 39ms/step - loss: 122.4832 - mae: 122.9832 - lr: 1.0000e-04\n",
            "Epoch 62/100\n",
            "8/8 [==============================] - 0s 43ms/step - loss: 116.3341 - mae: 116.8341 - lr: 1.1220e-04\n",
            "Epoch 63/100\n",
            "8/8 [==============================] - 0s 45ms/step - loss: 125.7145 - mae: 126.2145 - lr: 1.2589e-04\n",
            "Epoch 64/100\n",
            "8/8 [==============================] - 0s 41ms/step - loss: 133.9367 - mae: 134.4367 - lr: 1.4125e-04\n",
            "Epoch 65/100\n",
            "8/8 [==============================] - 0s 42ms/step - loss: 158.7594 - mae: 159.2593 - lr: 1.5849e-04\n",
            "Epoch 66/100\n",
            "8/8 [==============================] - 0s 45ms/step - loss: 216.0468 - mae: 216.5468 - lr: 1.7783e-04\n",
            "Epoch 67/100\n",
            "8/8 [==============================] - 1s 73ms/step - loss: 242.8549 - mae: 243.3549 - lr: 1.9953e-04\n",
            "Epoch 68/100\n",
            "8/8 [==============================] - 1s 73ms/step - loss: 304.2191 - mae: 304.7191 - lr: 2.2387e-04\n",
            "Epoch 69/100\n",
            "8/8 [==============================] - 1s 55ms/step - loss: 361.6024 - mae: 362.1024 - lr: 2.5119e-04\n",
            "Epoch 70/100\n",
            "8/8 [==============================] - 0s 40ms/step - loss: 445.1783 - mae: 445.6783 - lr: 2.8184e-04\n",
            "Epoch 71/100\n",
            "8/8 [==============================] - 0s 40ms/step - loss: 531.8768 - mae: 532.3768 - lr: 3.1623e-04\n",
            "Epoch 72/100\n",
            "8/8 [==============================] - 0s 44ms/step - loss: 575.2861 - mae: 575.7861 - lr: 3.5481e-04\n",
            "Epoch 73/100\n",
            "8/8 [==============================] - 0s 43ms/step - loss: 852.3099 - mae: 852.8099 - lr: 3.9811e-04\n",
            "Epoch 74/100\n",
            "8/8 [==============================] - 0s 43ms/step - loss: 784.4457 - mae: 784.9457 - lr: 4.4668e-04\n",
            "Epoch 75/100\n",
            "8/8 [==============================] - 0s 43ms/step - loss: 1153.7007 - mae: 1154.2007 - lr: 5.0119e-04\n",
            "Epoch 76/100\n",
            "8/8 [==============================] - 0s 43ms/step - loss: 1160.6252 - mae: 1161.1252 - lr: 5.6234e-04\n",
            "Epoch 77/100\n",
            "8/8 [==============================] - 0s 44ms/step - loss: 1375.6670 - mae: 1376.1670 - lr: 6.3096e-04\n",
            "Epoch 78/100\n",
            "8/8 [==============================] - 0s 44ms/step - loss: 1611.5957 - mae: 1612.0957 - lr: 7.0795e-04\n",
            "Epoch 79/100\n",
            "8/8 [==============================] - 0s 43ms/step - loss: 3042.9390 - mae: 3043.4390 - lr: 7.9433e-04\n",
            "Epoch 80/100\n",
            "8/8 [==============================] - 0s 45ms/step - loss: 3097.1895 - mae: 3097.6895 - lr: 8.9125e-04\n",
            "Epoch 81/100\n",
            "8/8 [==============================] - 0s 44ms/step - loss: 2417.3308 - mae: 2417.8308 - lr: 0.0010\n",
            "Epoch 82/100\n",
            "8/8 [==============================] - 1s 45ms/step - loss: 4296.4521 - mae: 4296.9521 - lr: 0.0011\n",
            "Epoch 83/100\n",
            "8/8 [==============================] - 0s 39ms/step - loss: 2438.2627 - mae: 2438.7627 - lr: 0.0013\n",
            "Epoch 84/100\n",
            "8/8 [==============================] - 0s 39ms/step - loss: 4616.5649 - mae: 4617.0649 - lr: 0.0014\n",
            "Epoch 85/100\n",
            "8/8 [==============================] - 0s 46ms/step - loss: 2787.3765 - mae: 2787.8765 - lr: 0.0016\n",
            "Epoch 86/100\n",
            "8/8 [==============================] - 1s 77ms/step - loss: 3208.9351 - mae: 3209.4351 - lr: 0.0018\n",
            "Epoch 87/100\n",
            "8/8 [==============================] - 1s 70ms/step - loss: 4303.1343 - mae: 4303.6343 - lr: 0.0020\n",
            "Epoch 88/100\n",
            "8/8 [==============================] - 0s 42ms/step - loss: 4601.6924 - mae: 4602.1924 - lr: 0.0022\n",
            "Epoch 89/100\n",
            "8/8 [==============================] - 0s 44ms/step - loss: 5651.7109 - mae: 5652.2114 - lr: 0.0025\n",
            "Epoch 90/100\n",
            "8/8 [==============================] - 0s 45ms/step - loss: 4579.7417 - mae: 4580.2417 - lr: 0.0028\n",
            "Epoch 91/100\n",
            "8/8 [==============================] - 0s 42ms/step - loss: 7358.0801 - mae: 7358.5801 - lr: 0.0032\n",
            "Epoch 92/100\n",
            "8/8 [==============================] - 0s 45ms/step - loss: 7442.3696 - mae: 7442.8691 - lr: 0.0035\n",
            "Epoch 93/100\n",
            "8/8 [==============================] - 0s 41ms/step - loss: 8238.3379 - mae: 8238.8379 - lr: 0.0040\n",
            "Epoch 94/100\n",
            "8/8 [==============================] - 1s 45ms/step - loss: 10107.0342 - mae: 10107.5342 - lr: 0.0045\n",
            "Epoch 95/100\n",
            "8/8 [==============================] - 0s 38ms/step - loss: 33694.7227 - mae: 33695.2227 - lr: 0.0050\n",
            "Epoch 96/100\n",
            "8/8 [==============================] - 0s 38ms/step - loss: 18520.2812 - mae: 18520.7793 - lr: 0.0056\n",
            "Epoch 97/100\n",
            "8/8 [==============================] - 0s 41ms/step - loss: 15601.5469 - mae: 15602.0469 - lr: 0.0063\n",
            "Epoch 98/100\n",
            "8/8 [==============================] - 0s 45ms/step - loss: 25705.6055 - mae: 25706.1074 - lr: 0.0071\n",
            "Epoch 99/100\n",
            "8/8 [==============================] - 0s 48ms/step - loss: 35910.9062 - mae: 35911.4062 - lr: 0.0079\n",
            "Epoch 100/100\n",
            "8/8 [==============================] - 0s 46ms/step - loss: 48475.8438 - mae: 48476.3438 - lr: 0.0089\n"
          ]
        }
      ],
      "source": [
        "keras.backend.clear_session()\n",
        "tf.random.set_seed(42)\n",
        "np.random.seed(42)\n",
        "\n",
        "window_size = 30\n",
        "train_set = window_dataset(x_train, window_size, batch_size=128)\n",
        "\n",
        "model = keras.models.Sequential([\n",
        "  keras.layers.Lambda(lambda x: tf.expand_dims(x, axis=-1),\n",
        "                      input_shape=[None]),\n",
        "  keras.layers.SimpleRNN(100, return_sequences=True),\n",
        "  keras.layers.SimpleRNN(100),\n",
        "  keras.layers.Dense(1),\n",
        "  keras.layers.Lambda(lambda x: x * 200.0)\n",
        "])\n",
        "lr_schedule = keras.callbacks.LearningRateScheduler(\n",
        "    lambda epoch: 1e-7 * 10**(epoch / 20))\n",
        "optimizer = keras.optimizers.SGD(lr=1e-7, momentum=0.9)\n",
        "model.compile(loss=keras.losses.Huber(),\n",
        "              optimizer=optimizer,\n",
        "              metrics=[\"mae\"])\n",
        "history = model.fit(train_set, epochs=100, callbacks=[lr_schedule])"
      ]
    },
    {
      "cell_type": "code",
      "execution_count": 6,
      "metadata": {
        "id": "YJTlFAXF8OIy",
        "outputId": "c5dcf3e2-cfec-40af-add5-6761c6da93a7",
        "colab": {
          "base_uri": "https://localhost:8080/",
          "height": 457
        }
      },
      "outputs": [
        {
          "output_type": "execute_result",
          "data": {
            "text/plain": [
              "(1e-07, 0.0001, 0.0, 30.0)"
            ]
          },
          "metadata": {},
          "execution_count": 6
        },
        {
          "output_type": "display_data",
          "data": {
            "text/plain": [
              "<Figure size 640x480 with 1 Axes>"
            ],
            "image/png": "[encoded data removed]"
          },
          "metadata": {}
        }
      ],
      "source": [
        "plt.semilogx(history.history[\"lr\"], history.history[\"loss\"])\n",
        "plt.axis([1e-7, 1e-4, 0, 30])"
      ]
    },
    {
      "cell_type": "code",
      "execution_count": 7,
      "metadata": {
        "id": "T3yNjxWE8OIz",
        "outputId": "e845da77-8a2c-4c12-81e8-2b78fb258e62",
        "colab": {
          "base_uri": "https://localhost:8080/"
        }
      },
      "outputs": [
        {
          "output_type": "stream",
          "name": "stderr",
          "text": [
            "WARNING:absl:`lr` is deprecated in Keras optimizer, please use `learning_rate` or use the legacy optimizer, e.g.,tf.keras.optimizers.legacy.SGD.\n"
          ]
        },
        {
          "output_type": "stream",
          "name": "stdout",
          "text": [
            "Epoch 1/500\n",
            "      8/Unknown - 3s 60ms/step - loss: 16646.9844 - mae: 16647.4844"
          ]
        },
        {
          "output_type": "stream",
          "name": "stderr",
          "text": [
            "WARNING:absl:Found untraced functions such as _update_step_xla while saving (showing 1 of 1). These functions will not be directly callable after loading.\n"
          ]
        },
        {
          "output_type": "stream",
          "name": "stdout",
          "text": [
            "\b\b\b\b\b\b\b\b\b\b\b\b\b\b\b\b\b\b\b\b\b\b\b\b\b\b\b\b\b\b\b\b\b\b\b\b\b\b\b\b\b\b\b\b\b\b\b\b\b\b\b\b\b\b\b\b\b\b\b\b\b\b\b\b\b\b\b\r8/8 [==============================] - 8s 703ms/step - loss: 16646.9844 - mae: 16647.4844 - val_loss: 10060.9131 - val_mae: 10061.4131\n",
            "Epoch 2/500\n",
            "8/8 [==============================] - ETA: 0s - loss: 22674.6523 - mae: 22675.1504"
          ]
        },
        {
          "output_type": "stream",
          "name": "stderr",
          "text": [
            "WARNING:absl:Found untraced functions such as _update_step_xla while saving (showing 1 of 1). These functions will not be directly callable after loading.\n"
          ]
        },
        {
          "output_type": "stream",
          "name": "stdout",
          "text": [
            "\b\b\b\b\b\b\b\b\b\b\b\b\b\b\b\b\b\b\b\b\b\b\b\b\b\b\b\b\b\b\b\b\b\b\b\b\b\b\b\b\b\b\b\b\b\b\b\b\b\b\b\b\b\b\b\b\b\b\b\b\b\b\b\b\b\b\b\b\b\b\b\b\b\b\b\b\b\b\b\b\b\b\b\r8/8 [==============================] - 5s 631ms/step - loss: 22674.6523 - mae: 22675.1504 - val_loss: 1167.2738 - val_mae: 1167.7738\n",
            "Epoch 3/500\n",
            "8/8 [==============================] - 1s 59ms/step - loss: 26308.2305 - mae: 26308.7305 - val_loss: 56652.6133 - val_mae: 56653.1133\n",
            "Epoch 4/500\n",
            "8/8 [==============================] - 1s 57ms/step - loss: 42600.6367 - mae: 42601.1328 - val_loss: 8335.3379 - val_mae: 8335.8379\n",
            "Epoch 5/500\n",
            "8/8 [==============================] - 1s 65ms/step - loss: 19284.3027 - mae: 19284.8047 - val_loss: 14004.5449 - val_mae: 14005.0449\n",
            "Epoch 6/500\n",
            "8/8 [==============================] - 1s 73ms/step - loss: 63442.3125 - mae: 63442.8125 - val_loss: 55908.9180 - val_mae: 55909.4219\n",
            "Epoch 7/500\n",
            "8/8 [==============================] - 1s 62ms/step - loss: 57437.7461 - mae: 57438.2422 - val_loss: 48486.9180 - val_mae: 48487.4219\n",
            "Epoch 8/500\n",
            "8/8 [==============================] - 1s 59ms/step - loss: 60109.7852 - mae: 60110.2891 - val_loss: 45135.3164 - val_mae: 45135.8125\n",
            "Epoch 9/500\n",
            "8/8 [==============================] - 1s 58ms/step - loss: 62488.9766 - mae: 62489.4766 - val_loss: 48923.8867 - val_mae: 48924.3906\n",
            "Epoch 10/500\n",
            "8/8 [==============================] - 1s 56ms/step - loss: 59003.2305 - mae: 59003.7266 - val_loss: 41584.1484 - val_mae: 41584.6445\n",
            "Epoch 11/500\n",
            "8/8 [==============================] - 1s 63ms/step - loss: 59251.6250 - mae: 59252.1250 - val_loss: 25077.5684 - val_mae: 25078.0664\n",
            "Epoch 12/500\n",
            "8/8 [==============================] - 1s 67ms/step - loss: 61231.7305 - mae: 61232.2305 - val_loss: 28971.1641 - val_mae: 28971.6641\n",
            "Epoch 13/500\n",
            "8/8 [==============================] - 1s 102ms/step - loss: 60403.4336 - mae: 60403.9336 - val_loss: 26885.5176 - val_mae: 26886.0195\n",
            "Epoch 14/500\n",
            "8/8 [==============================] - 1s 114ms/step - loss: 61048.1992 - mae: 61048.6953 - val_loss: 28060.5293 - val_mae: 28061.0273\n",
            "Epoch 15/500\n",
            "8/8 [==============================] - 2s 129ms/step - loss: 62081.2930 - mae: 62081.7930 - val_loss: 39231.8125 - val_mae: 39232.3164\n",
            "Epoch 16/500\n",
            "8/8 [==============================] - 1s 59ms/step - loss: 61972.9609 - mae: 61973.4609 - val_loss: 36917.0117 - val_mae: 36917.5117\n",
            "Epoch 17/500\n",
            "8/8 [==============================] - 1s 55ms/step - loss: 59195.9180 - mae: 59196.4180 - val_loss: 30266.3203 - val_mae: 30266.8184\n",
            "Epoch 18/500\n",
            "8/8 [==============================] - 1s 72ms/step - loss: 61247.8516 - mae: 61248.3555 - val_loss: 31428.4844 - val_mae: 31428.9863\n",
            "Epoch 19/500\n",
            "8/8 [==============================] - 1s 57ms/step - loss: 61171.7031 - mae: 61172.2070 - val_loss: 37463.7383 - val_mae: 37464.2383\n",
            "Epoch 20/500\n",
            "8/8 [==============================] - 1s 61ms/step - loss: 59686.9688 - mae: 59687.4688 - val_loss: 33344.3164 - val_mae: 33344.8164\n",
            "Epoch 21/500\n",
            "8/8 [==============================] - 1s 57ms/step - loss: 60495.4570 - mae: 60495.9531 - val_loss: 30740.1328 - val_mae: 30740.6309\n",
            "Epoch 22/500\n",
            "8/8 [==============================] - 1s 56ms/step - loss: 61004.4336 - mae: 61004.9336 - val_loss: 31985.8613 - val_mae: 31986.3594\n",
            "Epoch 23/500\n",
            "8/8 [==============================] - 1s 61ms/step - loss: 58949.2617 - mae: 58949.7617 - val_loss: 26722.3750 - val_mae: 26722.8750\n",
            "Epoch 24/500\n",
            "8/8 [==============================] - 1s 63ms/step - loss: 59760.8281 - mae: 59761.3281 - val_loss: 11742.5820 - val_mae: 11743.0820\n",
            "Epoch 25/500\n",
            "8/8 [==============================] - 1s 69ms/step - loss: 60251.1406 - mae: 60251.6406 - val_loss: 2768.4199 - val_mae: 2768.9199\n",
            "Epoch 26/500\n",
            "8/8 [==============================] - 1s 58ms/step - loss: 23965.9180 - mae: 23966.4180 - val_loss: 77823.8906 - val_mae: 77824.3906\n",
            "Epoch 27/500\n",
            "8/8 [==============================] - 1s 63ms/step - loss: 46018.7656 - mae: 46019.2617 - val_loss: 2119.1279 - val_mae: 2119.6279\n",
            "Epoch 28/500\n",
            "8/8 [==============================] - 1s 96ms/step - loss: 31015.0781 - mae: 31015.5781 - val_loss: 14286.1055 - val_mae: 14286.6055\n",
            "Epoch 29/500\n",
            "8/8 [==============================] - 1s 96ms/step - loss: 27413.5449 - mae: 27414.0449 - val_loss: 57870.4414 - val_mae: 57870.9414\n",
            "Epoch 30/500\n",
            "8/8 [==============================] - 1s 61ms/step - loss: 42655.1992 - mae: 42655.6992 - val_loss: 3574.3323 - val_mae: 3574.8323\n",
            "Epoch 31/500\n",
            "8/8 [==============================] - 1s 68ms/step - loss: 10483.5430 - mae: 10484.0430 - val_loss: 55435.4961 - val_mae: 55435.9961\n",
            "Epoch 32/500\n",
            "8/8 [==============================] - 1s 62ms/step - loss: 42349.4844 - mae: 42349.9883 - val_loss: 16583.2656 - val_mae: 16583.7656\n",
            "Epoch 33/500\n",
            "8/8 [==============================] - 1s 61ms/step - loss: 34273.3516 - mae: 34273.8516 - val_loss: 78661.7344 - val_mae: 78662.2344\n",
            "Epoch 34/500\n",
            "8/8 [==============================] - 1s 56ms/step - loss: 25352.9648 - mae: 25353.4668 - val_loss: 25260.0000 - val_mae: 25260.4980\n",
            "Epoch 35/500\n",
            "8/8 [==============================] - 1s 171ms/step - loss: 39352.4297 - mae: 39352.9336 - val_loss: 8316.0273 - val_mae: 8316.5273\n",
            "Epoch 36/500\n",
            "8/8 [==============================] - 1s 166ms/step - loss: 19677.5449 - mae: 19678.0449 - val_loss: 21394.9629 - val_mae: 21395.4609\n",
            "Epoch 37/500\n",
            "8/8 [==============================] - 1s 66ms/step - loss: 30152.2832 - mae: 30152.7812 - val_loss: 21832.7148 - val_mae: 21833.2148\n",
            "Epoch 38/500\n",
            "8/8 [==============================] - 1s 81ms/step - loss: 38912.3555 - mae: 38912.8555 - val_loss: 9585.3340 - val_mae: 9585.8340\n",
            "Epoch 39/500\n",
            "8/8 [==============================] - 1s 112ms/step - loss: 19879.3906 - mae: 19879.8887 - val_loss: 25057.4668 - val_mae: 25057.9648\n",
            "Epoch 40/500\n",
            "8/8 [==============================] - 1s 84ms/step - loss: 29724.4707 - mae: 29724.9688 - val_loss: 21563.7988 - val_mae: 21564.2969\n",
            "Epoch 41/500\n",
            "8/8 [==============================] - 1s 67ms/step - loss: 40134.2031 - mae: 40134.7070 - val_loss: 3365.2913 - val_mae: 3365.7913\n",
            "Epoch 42/500\n",
            "8/8 [==============================] - 1s 56ms/step - loss: 16270.0059 - mae: 16270.5059 - val_loss: 74202.6484 - val_mae: 74203.1484\n",
            "Epoch 43/500\n",
            "8/8 [==============================] - 1s 62ms/step - loss: 72436.8594 - mae: 72437.3594 - val_loss: 39400.5469 - val_mae: 39401.0469\n",
            "Epoch 44/500\n",
            "8/8 [==============================] - 1s 63ms/step - loss: 64628.4336 - mae: 64628.9336 - val_loss: 30135.2441 - val_mae: 30135.7422\n",
            "Epoch 45/500\n",
            "8/8 [==============================] - 1s 69ms/step - loss: 60806.6367 - mae: 60807.1367 - val_loss: 35490.2070 - val_mae: 35490.7109\n",
            "Epoch 46/500\n",
            "8/8 [==============================] - 1s 61ms/step - loss: 61192.3477 - mae: 61192.8438 - val_loss: 38559.0664 - val_mae: 38559.5664\n",
            "Epoch 47/500\n",
            "8/8 [==============================] - 1s 68ms/step - loss: 63020.7305 - mae: 63021.2305 - val_loss: 34117.8164 - val_mae: 34118.3164\n",
            "Epoch 48/500\n",
            "8/8 [==============================] - 1s 66ms/step - loss: 59168.6758 - mae: 59169.1758 - val_loss: 42802.4844 - val_mae: 42802.9844\n",
            "Epoch 49/500\n",
            "8/8 [==============================] - 1s 65ms/step - loss: 63522.3086 - mae: 63522.8086 - val_loss: 37987.6328 - val_mae: 37988.1328\n",
            "Epoch 50/500\n",
            "8/8 [==============================] - 1s 67ms/step - loss: 62226.5664 - mae: 62227.0625 - val_loss: 38041.8203 - val_mae: 38042.3164\n",
            "Epoch 51/500\n",
            "8/8 [==============================] - 1s 88ms/step - loss: 61610.0156 - mae: 61610.5156 - val_loss: 41215.1172 - val_mae: 41215.6211\n",
            "Epoch 52/500\n",
            "8/8 [==============================] - 1s 114ms/step - loss: 60752.8633 - mae: 60753.3594 - val_loss: 48999.3398 - val_mae: 48999.8438\n"
          ]
        },
        {
          "output_type": "execute_result",
          "data": {
            "text/plain": [
              "<keras.callbacks.History at 0x7fb5976cbf70>"
            ]
          },
          "metadata": {},
          "execution_count": 7
        }
      ],
      "source": [
        "keras.backend.clear_session()\n",
        "tf.random.set_seed(42)\n",
        "np.random.seed(42)\n",
        "\n",
        "window_size = 30\n",
        "train_set = window_dataset(x_train, window_size, batch_size=128)\n",
        "valid_set = window_dataset(x_valid, window_size, batch_size=128)\n",
        "\n",
        "model = keras.models.Sequential([\n",
        "  keras.layers.Lambda(lambda x: tf.expand_dims(x, axis=-1),\n",
        "                      input_shape=[None]),\n",
        "  keras.layers.SimpleRNN(100, return_sequences=True),\n",
        "  keras.layers.SimpleRNN(100),\n",
        "  keras.layers.Dense(1),\n",
        "  keras.layers.Lambda(lambda x: x * 200.0)\n",
        "])\n",
        "optimizer = keras.optimizers.SGD(lr=1.5e-6, momentum=0.9)\n",
        "model.compile(loss=keras.losses.Huber(),\n",
        "              optimizer=optimizer,\n",
        "              metrics=[\"mae\"])\n",
        "early_stopping = keras.callbacks.EarlyStopping(patience=50)\n",
        "model_checkpoint = keras.callbacks.ModelCheckpoint(\n",
        "    \"my_checkpoint\", save_best_only=True)\n",
        "model.fit(train_set, epochs=500,\n",
        "          validation_data=valid_set,\n",
        "          callbacks=[early_stopping, model_checkpoint])"
      ]
    },
    {
      "cell_type": "code",
      "execution_count": 10,
      "metadata": {
        "id": "4KuPtKFe8OI0"
      },
      "outputs": [],
      "source": [
        "model = keras.models.load_model(\"my_checkpoint\")"
      ]
    },
    {
      "cell_type": "code",
      "execution_count": 11,
      "metadata": {
        "id": "cxq09qOg8OI1",
        "outputId": "64462f2e-8f50-4d54-b36f-f7f473f91c41",
        "colab": {
          "base_uri": "https://localhost:8080/"
        }
      },
      "outputs": [
        {
          "output_type": "stream",
          "name": "stdout",
          "text": [
            "15/15 [==============================] - 1s 14ms/step\n"
          ]
        }
      ],
      "source": [
        "rnn_forecast = model_forecast(\n",
        "    model,\n",
        "    series[split_time - window_size:-1],\n",
        "    window_size)[:, 0]"
      ]
    },
    {
      "cell_type": "code",
      "execution_count": 12,
      "metadata": {
        "id": "PkC_JssS8OI2",
        "outputId": "3ca50880-1e28-4558-c83d-0f383f00a096",
        "colab": {
          "base_uri": "https://localhost:8080/",
          "height": 542
        }
      },
      "outputs": [
        {
          "output_type": "display_data",
          "data": {
            "text/plain": [
              "<Figure size 1000x600 with 1 Axes>"
            ],
            "image/png": "[encoded data removed]"
          },
          "metadata": {}
        }
      ],
      "source": [
        "plt.figure(figsize=(10, 6))\n",
        "plot_series(time_valid, x_valid)\n",
        "plot_series(time_valid, rnn_forecast)"
      ]
    },
    {
      "cell_type": "code",
      "execution_count": 13,
      "metadata": {
        "id": "1mwfgEK08OI3",
        "outputId": "578698dd-1ad3-4668-88f7-6fc5ffb4322a",
        "colab": {
          "base_uri": "https://localhost:8080/"
        }
      },
      "outputs": [
        {
          "output_type": "execute_result",
          "data": {
            "text/plain": [
              "1166.9584"
            ]
          },
          "metadata": {},
          "execution_count": 13
        }
      ],
      "source": [
        "keras.metrics.mean_absolute_error(x_valid, rnn_forecast).numpy()"
      ]
    },
    {
      "cell_type": "markdown",
      "metadata": {
        "id": "KNG7s8jt8OI4"
      },
      "source": [
        "## Sequence-to-Sequence Forecasting"
      ]
    },
    {
      "cell_type": "code",
      "execution_count": 14,
      "metadata": {
        "id": "bsKGxfiE8OI4"
      },
      "outputs": [],
      "source": [
        "def seq2seq_window_dataset(series, window_size, batch_size=32,\n",
        "                           shuffle_buffer=1000):\n",
        "    series = tf.expand_dims(series, axis=-1)\n",
        "    ds = tf.data.Dataset.from_tensor_slices(series)\n",
        "    ds = ds.window(window_size + 1, shift=1, drop_remainder=True)\n",
        "    ds = ds.flat_map(lambda w: w.batch(window_size + 1))\n",
        "    ds = ds.shuffle(shuffle_buffer)\n",
        "    ds = ds.map(lambda w: (w[:-1], w[1:]))\n",
        "    return ds.batch(batch_size).prefetch(1)"
      ]
    },
    {
      "cell_type": "code",
      "execution_count": 15,
      "metadata": {
        "id": "5Nk2C7WP8OI5",
        "outputId": "c31aeefa-4b26-4255-836b-59b6f46901f2",
        "colab": {
          "base_uri": "https://localhost:8080/"
        }
      },
      "outputs": [
        {
          "output_type": "stream",
          "name": "stdout",
          "text": [
            "X: [[[4]\n",
            "  [5]\n",
            "  [6]]]\n",
            "Y: [[[5]\n",
            "  [6]\n",
            "  [7]]]\n",
            "X: [[[1]\n",
            "  [2]\n",
            "  [3]]]\n",
            "Y: [[[2]\n",
            "  [3]\n",
            "  [4]]]\n",
            "X: [[[0]\n",
            "  [1]\n",
            "  [2]]]\n",
            "Y: [[[1]\n",
            "  [2]\n",
            "  [3]]]\n",
            "X: [[[5]\n",
            "  [6]\n",
            "  [7]]]\n",
            "Y: [[[6]\n",
            "  [7]\n",
            "  [8]]]\n",
            "X: [[[2]\n",
            "  [3]\n",
            "  [4]]]\n",
            "Y: [[[3]\n",
            "  [4]\n",
            "  [5]]]\n",
            "X: [[[6]\n",
            "  [7]\n",
            "  [8]]]\n",
            "Y: [[[7]\n",
            "  [8]\n",
            "  [9]]]\n",
            "X: [[[3]\n",
            "  [4]\n",
            "  [5]]]\n",
            "Y: [[[4]\n",
            "  [5]\n",
            "  [6]]]\n"
          ]
        }
      ],
      "source": [
        "for X_batch, Y_batch in seq2seq_window_dataset(tf.range(10), 3,\n",
        "                                               batch_size=1):\n",
        "    print(\"X:\", X_batch.numpy())\n",
        "    print(\"Y:\", Y_batch.numpy())"
      ]
    },
    {
      "cell_type": "code",
      "execution_count": 16,
      "metadata": {
        "id": "4JSc-Btk8OI7",
        "outputId": "f4ad1615-e919-4a26-dac8-d58cd838cf88",
        "colab": {
          "base_uri": "https://localhost:8080/"
        }
      },
      "outputs": [
        {
          "output_type": "stream",
          "name": "stderr",
          "text": [
            "WARNING:absl:`lr` is deprecated in Keras optimizer, please use `learning_rate` or use the legacy optimizer, e.g.,tf.keras.optimizers.legacy.SGD.\n"
          ]
        },
        {
          "output_type": "stream",
          "name": "stdout",
          "text": [
            "Epoch 1/100\n",
            "8/8 [==============================] - 3s 84ms/step - loss: 233.0479 - mae: 233.5479 - lr: 1.0000e-07\n",
            "Epoch 2/100\n",
            "8/8 [==============================] - 1s 52ms/step - loss: 194.9098 - mae: 195.4098 - lr: 1.0798e-07\n",
            "Epoch 3/100\n",
            "8/8 [==============================] - 1s 50ms/step - loss: 134.6512 - mae: 135.1512 - lr: 1.1659e-07\n",
            "Epoch 4/100\n",
            "8/8 [==============================] - 1s 51ms/step - loss: 62.0458 - mae: 62.5447 - lr: 1.2589e-07\n",
            "Epoch 5/100\n",
            "8/8 [==============================] - 0s 42ms/step - loss: 37.3315 - mae: 37.8291 - lr: 1.3594e-07\n",
            "Epoch 6/100\n",
            "8/8 [==============================] - 0s 41ms/step - loss: 34.2243 - mae: 34.7218 - lr: 1.4678e-07\n",
            "Epoch 7/100\n",
            "8/8 [==============================] - 0s 46ms/step - loss: 28.1592 - mae: 28.6535 - lr: 1.5849e-07\n",
            "Epoch 8/100\n",
            "8/8 [==============================] - 1s 46ms/step - loss: 25.1152 - mae: 25.6067 - lr: 1.7113e-07\n",
            "Epoch 9/100\n",
            "8/8 [==============================] - 1s 48ms/step - loss: 23.9872 - mae: 24.4771 - lr: 1.8478e-07\n",
            "Epoch 10/100\n",
            "8/8 [==============================] - 0s 46ms/step - loss: 23.3169 - mae: 23.8063 - lr: 1.9953e-07\n",
            "Epoch 11/100\n",
            "8/8 [==============================] - 1s 49ms/step - loss: 22.8051 - mae: 23.2942 - lr: 2.1544e-07\n",
            "Epoch 12/100\n",
            "8/8 [==============================] - 0s 41ms/step - loss: 22.3171 - mae: 22.8055 - lr: 2.3263e-07\n",
            "Epoch 13/100\n",
            "8/8 [==============================] - 0s 40ms/step - loss: 21.8345 - mae: 22.3235 - lr: 2.5119e-07\n",
            "Epoch 14/100\n",
            "8/8 [==============================] - 0s 44ms/step - loss: 21.3455 - mae: 21.8347 - lr: 2.7123e-07\n",
            "Epoch 15/100\n",
            "8/8 [==============================] - 1s 46ms/step - loss: 20.8487 - mae: 21.3376 - lr: 2.9286e-07\n",
            "Epoch 16/100\n",
            "8/8 [==============================] - 1s 48ms/step - loss: 20.3073 - mae: 20.7960 - lr: 3.1623e-07\n",
            "Epoch 17/100\n",
            "8/8 [==============================] - 0s 45ms/step - loss: 19.7120 - mae: 20.2011 - lr: 3.4145e-07\n",
            "Epoch 18/100\n",
            "8/8 [==============================] - 0s 47ms/step - loss: 19.0907 - mae: 19.5785 - lr: 3.6869e-07\n",
            "Epoch 19/100\n",
            "8/8 [==============================] - 1s 83ms/step - loss: 18.4469 - mae: 18.9354 - lr: 3.9811e-07\n",
            "Epoch 20/100\n",
            "8/8 [==============================] - 1s 79ms/step - loss: 17.7318 - mae: 18.2201 - lr: 4.2987e-07\n",
            "Epoch 21/100\n",
            "8/8 [==============================] - 0s 41ms/step - loss: 16.9913 - mae: 17.4799 - lr: 4.6416e-07\n",
            "Epoch 22/100\n",
            "8/8 [==============================] - 0s 40ms/step - loss: 16.2089 - mae: 16.6976 - lr: 5.0119e-07\n",
            "Epoch 23/100\n",
            "8/8 [==============================] - 0s 42ms/step - loss: 15.4342 - mae: 15.9216 - lr: 5.4117e-07\n",
            "Epoch 24/100\n",
            "8/8 [==============================] - 0s 43ms/step - loss: 14.6525 - mae: 15.1393 - lr: 5.8434e-07\n",
            "Epoch 25/100\n",
            "8/8 [==============================] - 0s 46ms/step - loss: 13.8711 - mae: 14.3577 - lr: 6.3096e-07\n",
            "Epoch 26/100\n",
            "8/8 [==============================] - 0s 39ms/step - loss: 13.1147 - mae: 13.6009 - lr: 6.8129e-07\n",
            "Epoch 27/100\n",
            "8/8 [==============================] - 0s 42ms/step - loss: 12.3541 - mae: 12.8404 - lr: 7.3564e-07\n",
            "Epoch 28/100\n",
            "8/8 [==============================] - 0s 43ms/step - loss: 11.6085 - mae: 12.0936 - lr: 7.9433e-07\n",
            "Epoch 29/100\n",
            "8/8 [==============================] - 0s 40ms/step - loss: 10.8939 - mae: 11.3796 - lr: 8.5770e-07\n",
            "Epoch 30/100\n",
            "8/8 [==============================] - 0s 41ms/step - loss: 10.2054 - mae: 10.6910 - lr: 9.2612e-07\n",
            "Epoch 31/100\n",
            "8/8 [==============================] - 1s 46ms/step - loss: 9.5550 - mae: 10.0418 - lr: 1.0000e-06\n",
            "Epoch 32/100\n",
            "8/8 [==============================] - 0s 46ms/step - loss: 8.9741 - mae: 9.4597 - lr: 1.0798e-06\n",
            "Epoch 33/100\n",
            "8/8 [==============================] - 1s 46ms/step - loss: 8.6174 - mae: 9.1020 - lr: 1.1659e-06\n",
            "Epoch 34/100\n",
            "8/8 [==============================] - 1s 46ms/step - loss: 8.3680 - mae: 8.8519 - lr: 1.2589e-06\n",
            "Epoch 35/100\n",
            "8/8 [==============================] - 0s 45ms/step - loss: 8.1215 - mae: 8.6046 - lr: 1.3594e-06\n",
            "Epoch 36/100\n",
            "8/8 [==============================] - 0s 41ms/step - loss: 7.9089 - mae: 8.3920 - lr: 1.4678e-06\n",
            "Epoch 37/100\n",
            "8/8 [==============================] - 0s 41ms/step - loss: 7.7306 - mae: 8.2133 - lr: 1.5849e-06\n",
            "Epoch 38/100\n",
            "8/8 [==============================] - 0s 44ms/step - loss: 7.5406 - mae: 8.0239 - lr: 1.7113e-06\n",
            "Epoch 39/100\n",
            "8/8 [==============================] - 1s 72ms/step - loss: 7.3803 - mae: 7.8638 - lr: 1.8478e-06\n",
            "Epoch 40/100\n",
            "8/8 [==============================] - 1s 79ms/step - loss: 7.2178 - mae: 7.7010 - lr: 1.9953e-06\n",
            "Epoch 41/100\n",
            "8/8 [==============================] - 1s 47ms/step - loss: 7.0710 - mae: 7.5537 - lr: 2.1544e-06\n",
            "Epoch 42/100\n",
            "8/8 [==============================] - 0s 49ms/step - loss: 6.9247 - mae: 7.4081 - lr: 2.3263e-06\n",
            "Epoch 43/100\n",
            "8/8 [==============================] - 0s 43ms/step - loss: 6.7873 - mae: 7.2703 - lr: 2.5119e-06\n",
            "Epoch 44/100\n",
            "8/8 [==============================] - 0s 43ms/step - loss: 6.6471 - mae: 7.1298 - lr: 2.7123e-06\n",
            "Epoch 45/100\n",
            "8/8 [==============================] - 0s 41ms/step - loss: 6.5302 - mae: 7.0132 - lr: 2.9286e-06\n",
            "Epoch 46/100\n",
            "8/8 [==============================] - 0s 40ms/step - loss: 6.4110 - mae: 6.8927 - lr: 3.1623e-06\n",
            "Epoch 47/100\n",
            "8/8 [==============================] - 0s 42ms/step - loss: 6.3453 - mae: 6.8259 - lr: 3.4145e-06\n",
            "Epoch 48/100\n",
            "8/8 [==============================] - 0s 41ms/step - loss: 6.3041 - mae: 6.7844 - lr: 3.6869e-06\n",
            "Epoch 49/100\n",
            "8/8 [==============================] - 0s 39ms/step - loss: 6.1426 - mae: 6.6241 - lr: 3.9811e-06\n",
            "Epoch 50/100\n",
            "8/8 [==============================] - 0s 42ms/step - loss: 6.0700 - mae: 6.5507 - lr: 4.2987e-06\n",
            "Epoch 51/100\n",
            "8/8 [==============================] - 0s 46ms/step - loss: 6.5104 - mae: 6.9924 - lr: 4.6416e-06\n",
            "Epoch 52/100\n",
            "8/8 [==============================] - 1s 47ms/step - loss: 6.8652 - mae: 7.3477 - lr: 5.0119e-06\n",
            "Epoch 53/100\n",
            "8/8 [==============================] - 1s 46ms/step - loss: 8.1930 - mae: 8.6798 - lr: 5.4117e-06\n",
            "Epoch 54/100\n",
            "8/8 [==============================] - 1s 46ms/step - loss: 7.2938 - mae: 7.7783 - lr: 5.8434e-06\n",
            "Epoch 55/100\n",
            "8/8 [==============================] - 0s 41ms/step - loss: 9.4774 - mae: 9.9693 - lr: 6.3096e-06\n",
            "Epoch 56/100\n",
            "8/8 [==============================] - 0s 39ms/step - loss: 9.1294 - mae: 9.6186 - lr: 6.8129e-06\n",
            "Epoch 57/100\n",
            "8/8 [==============================] - 0s 41ms/step - loss: 8.9605 - mae: 9.4477 - lr: 7.3564e-06\n",
            "Epoch 58/100\n",
            "8/8 [==============================] - 1s 68ms/step - loss: 8.5997 - mae: 9.0874 - lr: 7.9433e-06\n",
            "Epoch 59/100\n",
            "8/8 [==============================] - 1s 74ms/step - loss: 11.3481 - mae: 11.8428 - lr: 8.5770e-06\n",
            "Epoch 60/100\n",
            "8/8 [==============================] - 1s 67ms/step - loss: 11.5964 - mae: 12.0910 - lr: 9.2612e-06\n",
            "Epoch 61/100\n",
            "8/8 [==============================] - 0s 46ms/step - loss: 11.8973 - mae: 12.3924 - lr: 1.0000e-05\n",
            "Epoch 62/100\n",
            "8/8 [==============================] - 1s 89ms/step - loss: 12.3466 - mae: 12.8422 - lr: 1.0798e-05\n",
            "Epoch 63/100\n",
            "8/8 [==============================] - 1s 45ms/step - loss: 12.4037 - mae: 12.8982 - lr: 1.1659e-05\n",
            "Epoch 64/100\n",
            "8/8 [==============================] - 1s 93ms/step - loss: 14.8755 - mae: 15.3700 - lr: 1.2589e-05\n",
            "Epoch 65/100\n",
            "8/8 [==============================] - 1s 67ms/step - loss: 32.3789 - mae: 32.8749 - lr: 1.3594e-05\n",
            "Epoch 66/100\n",
            "8/8 [==============================] - 0s 43ms/step - loss: 49.2411 - mae: 49.7385 - lr: 1.4678e-05\n",
            "Epoch 67/100\n",
            "8/8 [==============================] - 0s 45ms/step - loss: 38.5982 - mae: 39.0960 - lr: 1.5849e-05\n",
            "Epoch 68/100\n",
            "8/8 [==============================] - 1s 45ms/step - loss: 28.0965 - mae: 28.5916 - lr: 1.7113e-05\n",
            "Epoch 69/100\n",
            "8/8 [==============================] - 0s 40ms/step - loss: 37.4765 - mae: 37.9729 - lr: 1.8478e-05\n",
            "Epoch 70/100\n",
            "8/8 [==============================] - 0s 39ms/step - loss: 33.2535 - mae: 33.7502 - lr: 1.9953e-05\n",
            "Epoch 71/100\n",
            "8/8 [==============================] - 0s 43ms/step - loss: 36.2246 - mae: 36.7230 - lr: 2.1544e-05\n",
            "Epoch 72/100\n",
            "8/8 [==============================] - 0s 39ms/step - loss: 35.4881 - mae: 35.9870 - lr: 2.3263e-05\n",
            "Epoch 73/100\n",
            "8/8 [==============================] - 0s 42ms/step - loss: 38.3128 - mae: 38.8119 - lr: 2.5119e-05\n",
            "Epoch 74/100\n",
            "8/8 [==============================] - 1s 57ms/step - loss: 40.0494 - mae: 40.5490 - lr: 2.7123e-05\n",
            "Epoch 75/100\n",
            "8/8 [==============================] - 1s 76ms/step - loss: 42.1364 - mae: 42.6355 - lr: 2.9286e-05\n",
            "Epoch 76/100\n",
            "8/8 [==============================] - 1s 76ms/step - loss: 42.3639 - mae: 42.8633 - lr: 3.1623e-05\n",
            "Epoch 77/100\n",
            "8/8 [==============================] - 1s 53ms/step - loss: 44.9995 - mae: 45.4987 - lr: 3.4145e-05\n",
            "Epoch 78/100\n",
            "8/8 [==============================] - 0s 42ms/step - loss: 48.1884 - mae: 48.6878 - lr: 3.6869e-05\n",
            "Epoch 79/100\n",
            "8/8 [==============================] - 0s 44ms/step - loss: 48.3254 - mae: 48.8251 - lr: 3.9811e-05\n",
            "Epoch 80/100\n",
            "8/8 [==============================] - 0s 45ms/step - loss: 52.4696 - mae: 52.9694 - lr: 4.2987e-05\n",
            "Epoch 81/100\n",
            "8/8 [==============================] - 0s 46ms/step - loss: 52.0558 - mae: 52.5556 - lr: 4.6416e-05\n",
            "Epoch 82/100\n",
            "8/8 [==============================] - 0s 46ms/step - loss: 52.3684 - mae: 52.8680 - lr: 5.0119e-05\n",
            "Epoch 83/100\n",
            "8/8 [==============================] - 0s 48ms/step - loss: 53.5466 - mae: 54.0464 - lr: 5.4117e-05\n",
            "Epoch 84/100\n",
            "8/8 [==============================] - 0s 40ms/step - loss: 52.6279 - mae: 53.1277 - lr: 5.8434e-05\n",
            "Epoch 85/100\n",
            "8/8 [==============================] - 0s 43ms/step - loss: 56.1764 - mae: 56.6763 - lr: 6.3096e-05\n",
            "Epoch 86/100\n",
            "8/8 [==============================] - 0s 41ms/step - loss: 54.1973 - mae: 54.6969 - lr: 6.8129e-05\n",
            "Epoch 87/100\n",
            "8/8 [==============================] - 0s 42ms/step - loss: 53.2457 - mae: 53.7454 - lr: 7.3564e-05\n",
            "Epoch 88/100\n",
            "8/8 [==============================] - 0s 48ms/step - loss: 55.0054 - mae: 55.5051 - lr: 7.9433e-05\n",
            "Epoch 89/100\n",
            "8/8 [==============================] - 1s 47ms/step - loss: 53.0983 - mae: 53.5979 - lr: 8.5770e-05\n",
            "Epoch 90/100\n",
            "8/8 [==============================] - 0s 40ms/step - loss: 54.5299 - mae: 55.0297 - lr: 9.2612e-05\n",
            "Epoch 91/100\n",
            "8/8 [==============================] - 0s 42ms/step - loss: 56.0379 - mae: 56.5376 - lr: 1.0000e-04\n",
            "Epoch 92/100\n",
            "8/8 [==============================] - 0s 38ms/step - loss: 53.6814 - mae: 54.1808 - lr: 1.0798e-04\n",
            "Epoch 93/100\n",
            "8/8 [==============================] - 0s 40ms/step - loss: 59.6989 - mae: 60.1987 - lr: 1.1659e-04\n",
            "Epoch 94/100\n",
            "8/8 [==============================] - 0s 40ms/step - loss: 67.3614 - mae: 67.8610 - lr: 1.2589e-04\n",
            "Epoch 95/100\n",
            "8/8 [==============================] - 1s 54ms/step - loss: 93.5721 - mae: 94.0717 - lr: 1.3594e-04\n",
            "Epoch 96/100\n",
            "8/8 [==============================] - 1s 67ms/step - loss: 93.9792 - mae: 94.4791 - lr: 1.4678e-04\n",
            "Epoch 97/100\n",
            "8/8 [==============================] - 1s 74ms/step - loss: 124.5486 - mae: 125.0485 - lr: 1.5849e-04\n",
            "Epoch 98/100\n",
            "8/8 [==============================] - 1s 42ms/step - loss: 151.5151 - mae: 152.0151 - lr: 1.7113e-04\n",
            "Epoch 99/100\n",
            "8/8 [==============================] - 0s 39ms/step - loss: 141.2816 - mae: 141.7814 - lr: 1.8478e-04\n",
            "Epoch 100/100\n",
            "8/8 [==============================] - 0s 43ms/step - loss: 187.5905 - mae: 188.0905 - lr: 1.9953e-04\n"
          ]
        }
      ],
      "source": [
        "keras.backend.clear_session()\n",
        "tf.random.set_seed(42)\n",
        "np.random.seed(42)\n",
        "\n",
        "window_size = 30\n",
        "train_set = seq2seq_window_dataset(x_train, window_size,\n",
        "                                   batch_size=128)\n",
        "\n",
        "model = keras.models.Sequential([\n",
        "  keras.layers.SimpleRNN(100, return_sequences=True,\n",
        "                         input_shape=[None, 1]),\n",
        "  keras.layers.SimpleRNN(100, return_sequences=True),\n",
        "  keras.layers.Dense(1),\n",
        "  keras.layers.Lambda(lambda x: x * 200)\n",
        "])\n",
        "lr_schedule = keras.callbacks.LearningRateScheduler(\n",
        "    lambda epoch: 1e-7 * 10**(epoch / 30))\n",
        "optimizer = keras.optimizers.SGD(lr=1e-7, momentum=0.9)\n",
        "model.compile(loss=keras.losses.Huber(),\n",
        "              optimizer=optimizer,\n",
        "              metrics=[\"mae\"])\n",
        "history = model.fit(train_set, epochs=100, callbacks=[lr_schedule])"
      ]
    },
    {
      "cell_type": "code",
      "execution_count": 17,
      "metadata": {
        "id": "YGNsWceq8OI8",
        "outputId": "913dbda5-372f-4c65-9eb1-800816da0bba",
        "colab": {
          "base_uri": "https://localhost:8080/",
          "height": 457
        }
      },
      "outputs": [
        {
          "output_type": "execute_result",
          "data": {
            "text/plain": [
              "(1e-07, 0.0001, 0.0, 30.0)"
            ]
          },
          "metadata": {},
          "execution_count": 17
        },
        {
          "output_type": "display_data",
          "data": {
            "text/plain": [
              "<Figure size 640x480 with 1 Axes>"
            ],
            "image/png": "[encoded data removed]"
          },
          "metadata": {}
        }
      ],
      "source": [
        "plt.semilogx(history.history[\"lr\"], history.history[\"loss\"])\n",
        "plt.axis([1e-7, 1e-4, 0, 30])"
      ]
    },
    {
      "cell_type": "code",
      "execution_count": 18,
      "metadata": {
        "id": "G9lDnb0X8OI9",
        "outputId": "0965bc87-f570-41cb-f8bc-85a677a58213",
        "colab": {
          "base_uri": "https://localhost:8080/"
        }
      },
      "outputs": [
        {
          "output_type": "stream",
          "name": "stderr",
          "text": [
            "WARNING:absl:`lr` is deprecated in Keras optimizer, please use `learning_rate` or use the legacy optimizer, e.g.,tf.keras.optimizers.legacy.SGD.\n"
          ]
        },
        {
          "output_type": "stream",
          "name": "stdout",
          "text": [
            "Epoch 1/500\n",
            "8/8 [==============================] - 3s 114ms/step - loss: 16949.6172 - mae: 16950.1172 - val_loss: 58367.1328 - val_mae: 58367.6328\n",
            "Epoch 2/500\n",
            "8/8 [==============================] - 1s 64ms/step - loss: 36816.0703 - mae: 36816.5742 - val_loss: 59091.4297 - val_mae: 59091.9258\n",
            "Epoch 3/500\n",
            "8/8 [==============================] - 1s 71ms/step - loss: 31754.5020 - mae: 31755.0039 - val_loss: 1926.3771 - val_mae: 1926.8771\n",
            "Epoch 4/500\n",
            "8/8 [==============================] - 1s 65ms/step - loss: 31349.6934 - mae: 31350.1895 - val_loss: 35065.1211 - val_mae: 35065.6211\n",
            "Epoch 5/500\n",
            "8/8 [==============================] - 1s 127ms/step - loss: 37715.3398 - mae: 37715.8359 - val_loss: 20847.2578 - val_mae: 20847.7578\n",
            "Epoch 6/500\n",
            "8/8 [==============================] - 1s 103ms/step - loss: 22400.4668 - mae: 22400.9648 - val_loss: 52225.6836 - val_mae: 52226.1836\n",
            "Epoch 7/500\n",
            "8/8 [==============================] - 1s 59ms/step - loss: 38195.8633 - mae: 38196.3594 - val_loss: 29243.7402 - val_mae: 29244.2402\n",
            "Epoch 8/500\n",
            "8/8 [==============================] - 1s 66ms/step - loss: 33872.4961 - mae: 33872.9961 - val_loss: 70633.6562 - val_mae: 70634.1562\n",
            "Epoch 9/500\n",
            "8/8 [==============================] - 1s 70ms/step - loss: 42132.9219 - mae: 42133.4258 - val_loss: 17552.7773 - val_mae: 17553.2773\n",
            "Epoch 10/500\n",
            "8/8 [==============================] - 1s 65ms/step - loss: 34370.6875 - mae: 34371.1875 - val_loss: 9123.5811 - val_mae: 9124.0811\n",
            "Epoch 11/500\n",
            "8/8 [==============================] - 1s 70ms/step - loss: 34895.9883 - mae: 34896.4883 - val_loss: 65931.1953 - val_mae: 65931.7031\n",
            "Epoch 12/500\n",
            "8/8 [==============================] - 1s 64ms/step - loss: 39043.2383 - mae: 39043.7344 - val_loss: 29869.7500 - val_mae: 29870.2480\n",
            "Epoch 13/500\n",
            "8/8 [==============================] - 1s 66ms/step - loss: 36863.5430 - mae: 36864.0469 - val_loss: 31440.8008 - val_mae: 31441.2988\n"
          ]
        },
        {
          "output_type": "execute_result",
          "data": {
            "text/plain": [
              "<keras.callbacks.History at 0x7fb596590400>"
            ]
          },
          "metadata": {},
          "execution_count": 18
        }
      ],
      "source": [
        "keras.backend.clear_session()\n",
        "tf.random.set_seed(42)\n",
        "np.random.seed(42)\n",
        "\n",
        "window_size = 30\n",
        "train_set = seq2seq_window_dataset(x_train, window_size,\n",
        "                                   batch_size=128)\n",
        "valid_set = seq2seq_window_dataset(x_valid, window_size,\n",
        "                                   batch_size=128)\n",
        "\n",
        "model = keras.models.Sequential([\n",
        "  keras.layers.SimpleRNN(100, return_sequences=True,\n",
        "                         input_shape=[None, 1]),\n",
        "  keras.layers.SimpleRNN(100, return_sequences=True),\n",
        "  keras.layers.Dense(1),\n",
        "  keras.layers.Lambda(lambda x: x * 200.0)\n",
        "])\n",
        "optimizer = keras.optimizers.SGD(lr=1e-6, momentum=0.9)\n",
        "model.compile(loss=keras.losses.Huber(),\n",
        "              optimizer=optimizer,\n",
        "              metrics=[\"mae\"])\n",
        "early_stopping = keras.callbacks.EarlyStopping(patience=10)\n",
        "model.fit(train_set, epochs=500,\n",
        "          validation_data=valid_set,\n",
        "          callbacks=[early_stopping])"
      ]
    },
    {
      "cell_type": "code",
      "execution_count": 19,
      "metadata": {
        "id": "4mglBRex8OI_",
        "outputId": "974cde98-474d-4668-be0f-184d679ea7d8",
        "colab": {
          "base_uri": "https://localhost:8080/"
        }
      },
      "outputs": [
        {
          "output_type": "stream",
          "name": "stdout",
          "text": [
            "45/45 [==============================] - 1s 13ms/step\n"
          ]
        }
      ],
      "source": [
        "rnn_forecast = model_forecast(model, series[..., np.newaxis], window_size)\n",
        "rnn_forecast = rnn_forecast[split_time - window_size:-1, -1, 0]"
      ]
    },
    {
      "cell_type": "code",
      "execution_count": 20,
      "metadata": {
        "id": "Zl_FkcdI8OJA",
        "outputId": "db489056-3375-4a51-853f-d57136ffc9e9",
        "colab": {
          "base_uri": "https://localhost:8080/",
          "height": 542
        }
      },
      "outputs": [
        {
          "output_type": "display_data",
          "data": {
            "text/plain": [
              "<Figure size 1000x600 with 1 Axes>"
            ],
            "image/png": "[encoded data removed]"
          },
          "metadata": {}
        }
      ],
      "source": [
        "plt.figure(figsize=(10, 6))\n",
        "plot_series(time_valid, x_valid)\n",
        "plot_series(time_valid, rnn_forecast)"
      ]
    },
    {
      "cell_type": "code",
      "execution_count": 21,
      "metadata": {
        "id": "cznEtSVK8OJB",
        "outputId": "ef7caf8a-9603-4f94-8b2c-bceb7cd0bfe4",
        "colab": {
          "base_uri": "https://localhost:8080/"
        }
      },
      "outputs": [
        {
          "output_type": "execute_result",
          "data": {
            "text/plain": [
              "31430.434"
            ]
          },
          "metadata": {},
          "execution_count": 21
        }
      ],
      "source": [
        "keras.metrics.mean_absolute_error(x_valid, rnn_forecast).numpy()"
      ]
    }
  ],
  "metadata": {
    "colab": {
      "collapsed_sections": [
        "vidayERjaO5q"
      ],
      "name": "l08c06_forecasting_with_rnn.ipynb",
      "toc_visible": true,
      "provenance": []
    },
    "kernelspec": {
      "display_name": "Python 3",
      "name": "python3"
    }
  },
  "nbformat": 4,
  "nbformat_minor": 0
}