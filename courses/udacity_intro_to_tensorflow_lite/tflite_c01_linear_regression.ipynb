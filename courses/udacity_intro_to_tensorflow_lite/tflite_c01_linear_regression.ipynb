{
  "cells": [
    {
      "cell_type": "markdown",
      "metadata": {
        "id": "Za8-Nr5k11fh"
      },
      "source": [
        "##### Copyright 2018 The TensorFlow Authors."
      ]
    },
    {
      "cell_type": "code",
      "execution_count": null,
      "metadata": {
        "cellView": "form",
        "id": "Eq10uEbw0E4l"
      },
      "outputs": [],
      "source": [
        "#@title Licensed under the Apache License, Version 2.0 (the \"License\");\n",
        "# you may not use this file except in compliance with the License.\n",
        "# You may obtain a copy of the License at\n",
        "#\n",
        "# https://www.apache.org/licenses/LICENSE-2.0\n",
        "#\n",
        "# Unless required by applicable law or agreed to in writing, software\n",
        "# distributed under the License is distributed on an \"AS IS\" BASIS,\n",
        "# WITHOUT WARRANTIES OR CONDITIONS OF ANY KIND, either express or implied.\n",
        "# See the License for the specific language governing permissions and\n",
        "# limitations under the License."
      ]
    },
    {
      "cell_type": "markdown",
      "metadata": {
        "id": "UysiGN3tGQHY"
      },
      "source": [
        "# Running TFLite models"
      ]
    },
    {
      "cell_type": "markdown",
      "metadata": {
        "id": "2hOrvdmswy5O"
      },
      "source": [
        "<table class=\"tfo-notebook-buttons\" align=\"left\">\n",
        "  <td>\n",
        "    <a target=\"_blank\" href=\"https://colab.research.google.com/github/tensorflow/examples/blob/master/courses/udacity_intro_to_tensorflow_lite/tflite_c01_linear_regression.ipynb\">\n",
        "    <img src=\"https://www.tensorflow.org/images/colab_logo_32px.png\" />\n",
        "    Run in Google Colab</a>\n",
        "  </td>\n",
        "  <td>\n",
        "    <a target=\"_blank\" href=\"https://github.com/tensorflow/examples/blob/master/courses/udacity_intro_to_tensorflow_lite/tflite_c01_linear_regression.ipynb\">\n",
        "    <img src=\"https://www.tensorflow.org/images/GitHub-Mark-32px.png\" />\n",
        "    View source on GitHub</a>\n",
        "  </td>\n",
        "</table>"
      ]
    },
    {
      "cell_type": "markdown",
      "metadata": {
        "id": "W-VhTkyTGcaQ"
      },
      "source": [
        "## Setup"
      ]
    },
    {
      "cell_type": "code",
      "execution_count": 1,
      "metadata": {
        "id": "dy4BcTjBFTWx"
      },
      "outputs": [],
      "source": [
        "import tensorflow as tf\n",
        "\n",
        "import pathlib\n",
        "import numpy as np\n",
        "import matplotlib.pyplot as plt\n",
        "\n",
        "from tensorflow.keras.models import Model\n",
        "from tensorflow.keras.layers import Input"
      ]
    },
    {
      "cell_type": "markdown",
      "metadata": {
        "id": "ceibQLDeGhI4"
      },
      "source": [
        "## Create a basic model of the form y = mx + c"
      ]
    },
    {
      "cell_type": "code",
      "execution_count": 2,
      "metadata": {
        "id": "YIBCsjQNF46Z",
        "outputId": "7ef120b0-a1ed-42ec-c214-02ab1e29ff09",
        "colab": {
          "base_uri": "https://localhost:8080/"
        }
      },
      "outputs": [
        {
          "output_type": "stream",
          "name": "stdout",
          "text": [
            "Epoch 1/200\n",
            "1/1 [==============================] - 7s 7s/step - loss: 26.3726\n",
            "Epoch 2/200\n",
            "1/1 [==============================] - 0s 13ms/step - loss: 21.0454\n",
            "Epoch 3/200\n",
            "1/1 [==============================] - 0s 12ms/step - loss: 16.8480\n",
            "Epoch 4/200\n",
            "1/1 [==============================] - 0s 24ms/step - loss: 13.5398\n",
            "Epoch 5/200\n",
            "1/1 [==============================] - 0s 12ms/step - loss: 10.9312\n",
            "Epoch 6/200\n",
            "1/1 [==============================] - 0s 26ms/step - loss: 8.8732\n",
            "Epoch 7/200\n",
            "1/1 [==============================] - 0s 11ms/step - loss: 7.2484\n",
            "Epoch 8/200\n",
            "1/1 [==============================] - 0s 18ms/step - loss: 5.9646\n",
            "Epoch 9/200\n",
            "1/1 [==============================] - 0s 32ms/step - loss: 4.9492\n",
            "Epoch 10/200\n",
            "1/1 [==============================] - 0s 31ms/step - loss: 4.1451\n",
            "Epoch 11/200\n",
            "1/1 [==============================] - 0s 13ms/step - loss: 3.5072\n",
            "Epoch 12/200\n",
            "1/1 [==============================] - 0s 38ms/step - loss: 3.0004\n",
            "Epoch 13/200\n",
            "1/1 [==============================] - 0s 20ms/step - loss: 2.5966\n",
            "Epoch 14/200\n",
            "1/1 [==============================] - 0s 33ms/step - loss: 2.2742\n",
            "Epoch 15/200\n",
            "1/1 [==============================] - 0s 29ms/step - loss: 2.0157\n",
            "Epoch 16/200\n",
            "1/1 [==============================] - 0s 40ms/step - loss: 1.8077\n",
            "Epoch 17/200\n",
            "1/1 [==============================] - 0s 17ms/step - loss: 1.6395\n",
            "Epoch 18/200\n",
            "1/1 [==============================] - 0s 17ms/step - loss: 1.5027\n",
            "Epoch 19/200\n",
            "1/1 [==============================] - 0s 16ms/step - loss: 1.3907\n",
            "Epoch 20/200\n",
            "1/1 [==============================] - 0s 21ms/step - loss: 1.2983\n",
            "Epoch 21/200\n",
            "1/1 [==============================] - 0s 13ms/step - loss: 1.2214\n",
            "Epoch 22/200\n",
            "1/1 [==============================] - 0s 14ms/step - loss: 1.1568\n",
            "Epoch 23/200\n",
            "1/1 [==============================] - 0s 11ms/step - loss: 1.1020\n",
            "Epoch 24/200\n",
            "1/1 [==============================] - 0s 13ms/step - loss: 1.0549\n",
            "Epoch 25/200\n",
            "1/1 [==============================] - 0s 11ms/step - loss: 1.0140\n",
            "Epoch 26/200\n",
            "1/1 [==============================] - 0s 14ms/step - loss: 0.9780\n",
            "Epoch 27/200\n",
            "1/1 [==============================] - 0s 29ms/step - loss: 0.9460\n",
            "Epoch 28/200\n",
            "1/1 [==============================] - 0s 17ms/step - loss: 0.9172\n",
            "Epoch 29/200\n",
            "1/1 [==============================] - 0s 18ms/step - loss: 0.8910\n",
            "Epoch 30/200\n",
            "1/1 [==============================] - 0s 38ms/step - loss: 0.8669\n",
            "Epoch 31/200\n",
            "1/1 [==============================] - 0s 21ms/step - loss: 0.8445\n",
            "Epoch 32/200\n",
            "1/1 [==============================] - 0s 28ms/step - loss: 0.8236\n",
            "Epoch 33/200\n",
            "1/1 [==============================] - 0s 29ms/step - loss: 0.8039\n",
            "Epoch 34/200\n",
            "1/1 [==============================] - 0s 14ms/step - loss: 0.7851\n",
            "Epoch 35/200\n",
            "1/1 [==============================] - 0s 21ms/step - loss: 0.7673\n",
            "Epoch 36/200\n",
            "1/1 [==============================] - 0s 12ms/step - loss: 0.7501\n",
            "Epoch 37/200\n",
            "1/1 [==============================] - 0s 20ms/step - loss: 0.7336\n",
            "Epoch 38/200\n",
            "1/1 [==============================] - 0s 23ms/step - loss: 0.7177\n",
            "Epoch 39/200\n",
            "1/1 [==============================] - 0s 20ms/step - loss: 0.7023\n",
            "Epoch 40/200\n",
            "1/1 [==============================] - 0s 16ms/step - loss: 0.6873\n",
            "Epoch 41/200\n",
            "1/1 [==============================] - 0s 11ms/step - loss: 0.6728\n",
            "Epoch 42/200\n",
            "1/1 [==============================] - 0s 14ms/step - loss: 0.6587\n",
            "Epoch 43/200\n",
            "1/1 [==============================] - 0s 14ms/step - loss: 0.6449\n",
            "Epoch 44/200\n",
            "1/1 [==============================] - 0s 13ms/step - loss: 0.6314\n",
            "Epoch 45/200\n",
            "1/1 [==============================] - 0s 25ms/step - loss: 0.6183\n",
            "Epoch 46/200\n",
            "1/1 [==============================] - 0s 16ms/step - loss: 0.6055\n",
            "Epoch 47/200\n",
            "1/1 [==============================] - 0s 15ms/step - loss: 0.5929\n",
            "Epoch 48/200\n",
            "1/1 [==============================] - 0s 48ms/step - loss: 0.5807\n",
            "Epoch 49/200\n",
            "1/1 [==============================] - 0s 17ms/step - loss: 0.5687\n",
            "Epoch 50/200\n",
            "1/1 [==============================] - 0s 15ms/step - loss: 0.5570\n",
            "Epoch 51/200\n",
            "1/1 [==============================] - 0s 18ms/step - loss: 0.5455\n",
            "Epoch 52/200\n",
            "1/1 [==============================] - 0s 15ms/step - loss: 0.5343\n",
            "Epoch 53/200\n",
            "1/1 [==============================] - 0s 31ms/step - loss: 0.5233\n",
            "Epoch 54/200\n",
            "1/1 [==============================] - 0s 33ms/step - loss: 0.5125\n",
            "Epoch 55/200\n",
            "1/1 [==============================] - 0s 19ms/step - loss: 0.5020\n",
            "Epoch 56/200\n",
            "1/1 [==============================] - 0s 12ms/step - loss: 0.4916\n",
            "Epoch 57/200\n",
            "1/1 [==============================] - 0s 15ms/step - loss: 0.4815\n",
            "Epoch 58/200\n",
            "1/1 [==============================] - 0s 24ms/step - loss: 0.4716\n",
            "Epoch 59/200\n",
            "1/1 [==============================] - 0s 12ms/step - loss: 0.4619\n",
            "Epoch 60/200\n",
            "1/1 [==============================] - 0s 14ms/step - loss: 0.4524\n",
            "Epoch 61/200\n",
            "1/1 [==============================] - 0s 23ms/step - loss: 0.4431\n",
            "Epoch 62/200\n",
            "1/1 [==============================] - 0s 20ms/step - loss: 0.4340\n",
            "Epoch 63/200\n",
            "1/1 [==============================] - 0s 13ms/step - loss: 0.4251\n",
            "Epoch 64/200\n",
            "1/1 [==============================] - 0s 15ms/step - loss: 0.4164\n",
            "Epoch 65/200\n",
            "1/1 [==============================] - 0s 10ms/step - loss: 0.4078\n",
            "Epoch 66/200\n",
            "1/1 [==============================] - 0s 9ms/step - loss: 0.3995\n",
            "Epoch 67/200\n",
            "1/1 [==============================] - 0s 10ms/step - loss: 0.3912\n",
            "Epoch 68/200\n",
            "1/1 [==============================] - 0s 18ms/step - loss: 0.3832\n",
            "Epoch 69/200\n",
            "1/1 [==============================] - 0s 11ms/step - loss: 0.3753\n",
            "Epoch 70/200\n",
            "1/1 [==============================] - 0s 10ms/step - loss: 0.3676\n",
            "Epoch 71/200\n",
            "1/1 [==============================] - 0s 9ms/step - loss: 0.3601\n",
            "Epoch 72/200\n",
            "1/1 [==============================] - 0s 9ms/step - loss: 0.3527\n",
            "Epoch 73/200\n",
            "1/1 [==============================] - 0s 10ms/step - loss: 0.3454\n",
            "Epoch 74/200\n",
            "1/1 [==============================] - 0s 10ms/step - loss: 0.3383\n",
            "Epoch 75/200\n",
            "1/1 [==============================] - 0s 9ms/step - loss: 0.3314\n",
            "Epoch 76/200\n",
            "1/1 [==============================] - 0s 11ms/step - loss: 0.3246\n",
            "Epoch 77/200\n",
            "1/1 [==============================] - 0s 10ms/step - loss: 0.3179\n",
            "Epoch 78/200\n",
            "1/1 [==============================] - 0s 10ms/step - loss: 0.3114\n",
            "Epoch 79/200\n",
            "1/1 [==============================] - 0s 11ms/step - loss: 0.3050\n",
            "Epoch 80/200\n",
            "1/1 [==============================] - 0s 10ms/step - loss: 0.2987\n",
            "Epoch 81/200\n",
            "1/1 [==============================] - 0s 10ms/step - loss: 0.2926\n",
            "Epoch 82/200\n",
            "1/1 [==============================] - 0s 11ms/step - loss: 0.2866\n",
            "Epoch 83/200\n",
            "1/1 [==============================] - 0s 10ms/step - loss: 0.2807\n",
            "Epoch 84/200\n",
            "1/1 [==============================] - 0s 14ms/step - loss: 0.2749\n",
            "Epoch 85/200\n",
            "1/1 [==============================] - 0s 15ms/step - loss: 0.2693\n",
            "Epoch 86/200\n",
            "1/1 [==============================] - 0s 10ms/step - loss: 0.2637\n",
            "Epoch 87/200\n",
            "1/1 [==============================] - 0s 9ms/step - loss: 0.2583\n",
            "Epoch 88/200\n",
            "1/1 [==============================] - 0s 10ms/step - loss: 0.2530\n",
            "Epoch 89/200\n",
            "1/1 [==============================] - 0s 10ms/step - loss: 0.2478\n",
            "Epoch 90/200\n",
            "1/1 [==============================] - 0s 10ms/step - loss: 0.2427\n",
            "Epoch 91/200\n",
            "1/1 [==============================] - 0s 10ms/step - loss: 0.2378\n",
            "Epoch 92/200\n",
            "1/1 [==============================] - 0s 10ms/step - loss: 0.2329\n",
            "Epoch 93/200\n",
            "1/1 [==============================] - 0s 10ms/step - loss: 0.2281\n",
            "Epoch 94/200\n",
            "1/1 [==============================] - 0s 12ms/step - loss: 0.2234\n",
            "Epoch 95/200\n",
            "1/1 [==============================] - 0s 9ms/step - loss: 0.2188\n",
            "Epoch 96/200\n",
            "1/1 [==============================] - 0s 10ms/step - loss: 0.2143\n",
            "Epoch 97/200\n",
            "1/1 [==============================] - 0s 11ms/step - loss: 0.2099\n",
            "Epoch 98/200\n",
            "1/1 [==============================] - 0s 10ms/step - loss: 0.2056\n",
            "Epoch 99/200\n",
            "1/1 [==============================] - 0s 10ms/step - loss: 0.2014\n",
            "Epoch 100/200\n",
            "1/1 [==============================] - 0s 10ms/step - loss: 0.1972\n",
            "Epoch 101/200\n",
            "1/1 [==============================] - 0s 9ms/step - loss: 0.1932\n",
            "Epoch 102/200\n",
            "1/1 [==============================] - 0s 10ms/step - loss: 0.1892\n",
            "Epoch 103/200\n",
            "1/1 [==============================] - 0s 9ms/step - loss: 0.1853\n",
            "Epoch 104/200\n",
            "1/1 [==============================] - 0s 11ms/step - loss: 0.1815\n",
            "Epoch 105/200\n",
            "1/1 [==============================] - 0s 11ms/step - loss: 0.1778\n",
            "Epoch 106/200\n",
            "1/1 [==============================] - 0s 10ms/step - loss: 0.1741\n",
            "Epoch 107/200\n",
            "1/1 [==============================] - 0s 10ms/step - loss: 0.1706\n",
            "Epoch 108/200\n",
            "1/1 [==============================] - 0s 10ms/step - loss: 0.1671\n",
            "Epoch 109/200\n",
            "1/1 [==============================] - 0s 10ms/step - loss: 0.1636\n",
            "Epoch 110/200\n",
            "1/1 [==============================] - 0s 10ms/step - loss: 0.1603\n",
            "Epoch 111/200\n",
            "1/1 [==============================] - 0s 10ms/step - loss: 0.1570\n",
            "Epoch 112/200\n",
            "1/1 [==============================] - 0s 15ms/step - loss: 0.1538\n",
            "Epoch 113/200\n",
            "1/1 [==============================] - 0s 10ms/step - loss: 0.1506\n",
            "Epoch 114/200\n",
            "1/1 [==============================] - 0s 12ms/step - loss: 0.1475\n",
            "Epoch 115/200\n",
            "1/1 [==============================] - 0s 10ms/step - loss: 0.1445\n",
            "Epoch 116/200\n",
            "1/1 [==============================] - 0s 10ms/step - loss: 0.1415\n",
            "Epoch 117/200\n",
            "1/1 [==============================] - 0s 9ms/step - loss: 0.1386\n",
            "Epoch 118/200\n",
            "1/1 [==============================] - 0s 11ms/step - loss: 0.1358\n",
            "Epoch 119/200\n",
            "1/1 [==============================] - 0s 11ms/step - loss: 0.1330\n",
            "Epoch 120/200\n",
            "1/1 [==============================] - 0s 10ms/step - loss: 0.1302\n",
            "Epoch 121/200\n",
            "1/1 [==============================] - 0s 10ms/step - loss: 0.1276\n",
            "Epoch 122/200\n",
            "1/1 [==============================] - 0s 10ms/step - loss: 0.1249\n",
            "Epoch 123/200\n",
            "1/1 [==============================] - 0s 10ms/step - loss: 0.1224\n",
            "Epoch 124/200\n",
            "1/1 [==============================] - 0s 9ms/step - loss: 0.1199\n",
            "Epoch 125/200\n",
            "1/1 [==============================] - 0s 10ms/step - loss: 0.1174\n",
            "Epoch 126/200\n",
            "1/1 [==============================] - 0s 10ms/step - loss: 0.1150\n",
            "Epoch 127/200\n",
            "1/1 [==============================] - 0s 12ms/step - loss: 0.1126\n",
            "Epoch 128/200\n",
            "1/1 [==============================] - 0s 10ms/step - loss: 0.1103\n",
            "Epoch 129/200\n",
            "1/1 [==============================] - 0s 10ms/step - loss: 0.1080\n",
            "Epoch 130/200\n",
            "1/1 [==============================] - 0s 10ms/step - loss: 0.1058\n",
            "Epoch 131/200\n",
            "1/1 [==============================] - 0s 13ms/step - loss: 0.1037\n",
            "Epoch 132/200\n",
            "1/1 [==============================] - 0s 9ms/step - loss: 0.1015\n",
            "Epoch 133/200\n",
            "1/1 [==============================] - 0s 10ms/step - loss: 0.0994\n",
            "Epoch 134/200\n",
            "1/1 [==============================] - 0s 10ms/step - loss: 0.0974\n",
            "Epoch 135/200\n",
            "1/1 [==============================] - 0s 10ms/step - loss: 0.0954\n",
            "Epoch 136/200\n",
            "1/1 [==============================] - 0s 11ms/step - loss: 0.0934\n",
            "Epoch 137/200\n",
            "1/1 [==============================] - 0s 10ms/step - loss: 0.0915\n",
            "Epoch 138/200\n",
            "1/1 [==============================] - 0s 11ms/step - loss: 0.0896\n",
            "Epoch 139/200\n",
            "1/1 [==============================] - 0s 10ms/step - loss: 0.0878\n",
            "Epoch 140/200\n",
            "1/1 [==============================] - 0s 11ms/step - loss: 0.0860\n",
            "Epoch 141/200\n",
            "1/1 [==============================] - 0s 11ms/step - loss: 0.0842\n",
            "Epoch 142/200\n",
            "1/1 [==============================] - 0s 12ms/step - loss: 0.0825\n",
            "Epoch 143/200\n",
            "1/1 [==============================] - 0s 10ms/step - loss: 0.0808\n",
            "Epoch 144/200\n",
            "1/1 [==============================] - 0s 10ms/step - loss: 0.0791\n",
            "Epoch 145/200\n",
            "1/1 [==============================] - 0s 10ms/step - loss: 0.0775\n",
            "Epoch 146/200\n",
            "1/1 [==============================] - 0s 10ms/step - loss: 0.0759\n",
            "Epoch 147/200\n",
            "1/1 [==============================] - 0s 8ms/step - loss: 0.0744\n",
            "Epoch 148/200\n",
            "1/1 [==============================] - 0s 8ms/step - loss: 0.0728\n",
            "Epoch 149/200\n",
            "1/1 [==============================] - 0s 11ms/step - loss: 0.0713\n",
            "Epoch 150/200\n",
            "1/1 [==============================] - 0s 10ms/step - loss: 0.0699\n",
            "Epoch 151/200\n",
            "1/1 [==============================] - 0s 10ms/step - loss: 0.0684\n",
            "Epoch 152/200\n",
            "1/1 [==============================] - 0s 10ms/step - loss: 0.0670\n",
            "Epoch 153/200\n",
            "1/1 [==============================] - 0s 8ms/step - loss: 0.0657\n",
            "Epoch 154/200\n",
            "1/1 [==============================] - 0s 10ms/step - loss: 0.0643\n",
            "Epoch 155/200\n",
            "1/1 [==============================] - 0s 9ms/step - loss: 0.0630\n",
            "Epoch 156/200\n",
            "1/1 [==============================] - 0s 9ms/step - loss: 0.0617\n",
            "Epoch 157/200\n",
            "1/1 [==============================] - 0s 11ms/step - loss: 0.0604\n",
            "Epoch 158/200\n",
            "1/1 [==============================] - 0s 9ms/step - loss: 0.0592\n",
            "Epoch 159/200\n",
            "1/1 [==============================] - 0s 14ms/step - loss: 0.0580\n",
            "Epoch 160/200\n",
            "1/1 [==============================] - 0s 11ms/step - loss: 0.0568\n",
            "Epoch 161/200\n",
            "1/1 [==============================] - 0s 12ms/step - loss: 0.0556\n",
            "Epoch 162/200\n",
            "1/1 [==============================] - 0s 11ms/step - loss: 0.0545\n",
            "Epoch 163/200\n",
            "1/1 [==============================] - 0s 11ms/step - loss: 0.0534\n",
            "Epoch 164/200\n",
            "1/1 [==============================] - 0s 14ms/step - loss: 0.0523\n",
            "Epoch 165/200\n",
            "1/1 [==============================] - 0s 11ms/step - loss: 0.0512\n",
            "Epoch 166/200\n",
            "1/1 [==============================] - 0s 10ms/step - loss: 0.0501\n",
            "Epoch 167/200\n",
            "1/1 [==============================] - 0s 11ms/step - loss: 0.0491\n",
            "Epoch 168/200\n",
            "1/1 [==============================] - 0s 10ms/step - loss: 0.0481\n",
            "Epoch 169/200\n",
            "1/1 [==============================] - 0s 14ms/step - loss: 0.0471\n",
            "Epoch 170/200\n",
            "1/1 [==============================] - 0s 12ms/step - loss: 0.0461\n",
            "Epoch 171/200\n",
            "1/1 [==============================] - 0s 12ms/step - loss: 0.0452\n",
            "Epoch 172/200\n",
            "1/1 [==============================] - 0s 10ms/step - loss: 0.0443\n",
            "Epoch 173/200\n",
            "1/1 [==============================] - 0s 12ms/step - loss: 0.0434\n",
            "Epoch 174/200\n",
            "1/1 [==============================] - 0s 12ms/step - loss: 0.0425\n",
            "Epoch 175/200\n",
            "1/1 [==============================] - 0s 12ms/step - loss: 0.0416\n",
            "Epoch 176/200\n",
            "1/1 [==============================] - 0s 10ms/step - loss: 0.0407\n",
            "Epoch 177/200\n",
            "1/1 [==============================] - 0s 16ms/step - loss: 0.0399\n",
            "Epoch 178/200\n",
            "1/1 [==============================] - 0s 12ms/step - loss: 0.0391\n",
            "Epoch 179/200\n",
            "1/1 [==============================] - 0s 13ms/step - loss: 0.0383\n",
            "Epoch 180/200\n",
            "1/1 [==============================] - 0s 11ms/step - loss: 0.0375\n",
            "Epoch 181/200\n",
            "1/1 [==============================] - 0s 15ms/step - loss: 0.0367\n",
            "Epoch 182/200\n",
            "1/1 [==============================] - 0s 15ms/step - loss: 0.0360\n",
            "Epoch 183/200\n",
            "1/1 [==============================] - 0s 15ms/step - loss: 0.0352\n",
            "Epoch 184/200\n",
            "1/1 [==============================] - 0s 8ms/step - loss: 0.0345\n",
            "Epoch 185/200\n",
            "1/1 [==============================] - 0s 13ms/step - loss: 0.0338\n",
            "Epoch 186/200\n",
            "1/1 [==============================] - 0s 9ms/step - loss: 0.0331\n",
            "Epoch 187/200\n",
            "1/1 [==============================] - 0s 10ms/step - loss: 0.0324\n",
            "Epoch 188/200\n",
            "1/1 [==============================] - 0s 11ms/step - loss: 0.0318\n",
            "Epoch 189/200\n",
            "1/1 [==============================] - 0s 11ms/step - loss: 0.0311\n",
            "Epoch 190/200\n",
            "1/1 [==============================] - 0s 12ms/step - loss: 0.0305\n",
            "Epoch 191/200\n",
            "1/1 [==============================] - 0s 9ms/step - loss: 0.0298\n",
            "Epoch 192/200\n",
            "1/1 [==============================] - 0s 12ms/step - loss: 0.0292\n",
            "Epoch 193/200\n",
            "1/1 [==============================] - 0s 14ms/step - loss: 0.0286\n",
            "Epoch 194/200\n",
            "1/1 [==============================] - 0s 11ms/step - loss: 0.0280\n",
            "Epoch 195/200\n",
            "1/1 [==============================] - 0s 12ms/step - loss: 0.0275\n",
            "Epoch 196/200\n",
            "1/1 [==============================] - 0s 13ms/step - loss: 0.0269\n",
            "Epoch 197/200\n",
            "1/1 [==============================] - 0s 15ms/step - loss: 0.0263\n",
            "Epoch 198/200\n",
            "1/1 [==============================] - 0s 9ms/step - loss: 0.0258\n",
            "Epoch 199/200\n",
            "1/1 [==============================] - 0s 11ms/step - loss: 0.0253\n",
            "Epoch 200/200\n",
            "1/1 [==============================] - 0s 10ms/step - loss: 0.0248\n"
          ]
        },
        {
          "output_type": "execute_result",
          "data": {
            "text/plain": [
              "<keras.callbacks.History at 0x7fb27c0ca8c0>"
            ]
          },
          "metadata": {},
          "execution_count": 2
        }
      ],
      "source": [
        "# Create a simple Keras model.\n",
        "x = [-1, 0, 1, 2, 3, 4]\n",
        "y = [-3, -1, 1, 3, 5, 7]\n",
        "\n",
        "model = tf.keras.models.Sequential([\n",
        "    tf.keras.layers.Dense(units=1, input_shape=[1])\n",
        "])\n",
        "model.compile(optimizer='sgd', loss='mean_squared_error')\n",
        "model.fit(x, y, epochs=200, verbose=1)"
      ]
    },
    {
      "cell_type": "markdown",
      "metadata": {
        "id": "EjsB-QICGt6L"
      },
      "source": [
        "## Generate a SavedModel"
      ]
    },
    {
      "cell_type": "code",
      "execution_count": 3,
      "metadata": {
        "id": "a9xcbK7QHOfm"
      },
      "outputs": [],
      "source": [
        "export_dir = 'saved_model/1'\n",
        "tf.saved_model.save(model, export_dir)"
      ]
    },
    {
      "cell_type": "markdown",
      "metadata": {
        "id": "RRtsNwkiGxcO"
      },
      "source": [
        "## Convert the SavedModel to TFLite"
      ]
    },
    {
      "cell_type": "code",
      "execution_count": 4,
      "metadata": {
        "id": "TtM8yKTVTpD3"
      },
      "outputs": [],
      "source": [
        "# Convert the model.\n",
        "converter = tf.lite.TFLiteConverter.from_saved_model(export_dir)\n",
        "tflite_model = converter.convert()"
      ]
    },
    {
      "cell_type": "code",
      "execution_count": 5,
      "metadata": {
        "id": "4idYulcNHTdO",
        "outputId": "acf11f7f-b0fc-4759-942d-1cdbbbdae151",
        "colab": {
          "base_uri": "https://localhost:8080/"
        }
      },
      "outputs": [
        {
          "output_type": "execute_result",
          "data": {
            "text/plain": [
              "1080"
            ]
          },
          "metadata": {},
          "execution_count": 5
        }
      ],
      "source": [
        "tflite_model_file = pathlib.Path('model.tflite')\n",
        "tflite_model_file.write_bytes(tflite_model)"
      ]
    },
    {
      "cell_type": "markdown",
      "metadata": {
        "id": "HgGvp2yBG25Q"
      },
      "source": [
        "## Initialize the TFLite interpreter to try it out"
      ]
    },
    {
      "cell_type": "code",
      "execution_count": 6,
      "metadata": {
        "id": "DOt94wIWF8m7"
      },
      "outputs": [],
      "source": [
        "# Load TFLite model and allocate tensors.\n",
        "interpreter = tf.lite.Interpreter(model_content=tflite_model)\n",
        "interpreter.allocate_tensors()\n",
        "\n",
        "# Get input and output tensors.\n",
        "input_details = interpreter.get_input_details()\n",
        "output_details = interpreter.get_output_details()"
      ]
    },
    {
      "cell_type": "code",
      "execution_count": 7,
      "metadata": {
        "id": "JGYkEK08F8qK"
      },
      "outputs": [],
      "source": [
        "# Test the TensorFlow Lite model on random input data.\n",
        "input_shape = input_details[0]['shape']\n",
        "inputs, outputs = [], []\n",
        "for _ in range(100):\n",
        "  input_data = np.array(np.random.random_sample(input_shape), dtype=np.float32)\n",
        "  interpreter.set_tensor(input_details[0]['index'], input_data)\n",
        "\n",
        "  interpreter.invoke()\n",
        "  tflite_results = interpreter.get_tensor(output_details[0]['index'])\n",
        "\n",
        "  # Test the TensorFlow model on random input data.\n",
        "  tf_results = model(tf.constant(input_data))\n",
        "  output_data = np.array(tf_results)\n",
        "  \n",
        "  inputs.append(input_data[0][0])\n",
        "  outputs.append(output_data[0][0])"
      ]
    },
    {
      "cell_type": "markdown",
      "metadata": {
        "id": "t1gQGH1KWAgW"
      },
      "source": [
        "## Visualize the model"
      ]
    },
    {
      "cell_type": "code",
      "execution_count": 8,
      "metadata": {
        "id": "ccvQ1mEJVrqo",
        "outputId": "8dd90e64-3979-4952-ffa3-f60a326d5575",
        "colab": {
          "base_uri": "https://localhost:8080/",
          "height": 430
        }
      },
      "outputs": [
        {
          "output_type": "display_data",
          "data": {
            "text/plain": [
              "<Figure size 640x480 with 1 Axes>"
            ],
            "image/png": "[encoded data removed]"
          },
          "metadata": {}
        }
      ],
      "source": [
        "plt.plot(inputs, outputs, 'r')\n",
        "plt.show()"
      ]
    },
    {
      "cell_type": "markdown",
      "metadata": {
        "id": "WbugMH6yKvtd"
      },
      "source": [
        "## Download the TFLite model file"
      ]
    },
    {
      "cell_type": "code",
      "execution_count": 9,
      "metadata": {
        "id": "FOAIMETeJmkc",
        "outputId": "abf46895-01ae-4dcf-b93c-acffaa5084ba",
        "colab": {
          "base_uri": "https://localhost:8080/",
          "height": 17
        }
      },
      "outputs": [
        {
          "output_type": "display_data",
          "data": {
            "text/plain": [
              "<IPython.core.display.Javascript object>"
            ],
            "application/javascript": [
              "\n",
              "    async function download(id, filename, size) {\n",
              "      if (!google.colab.kernel.accessAllowed) {\n",
              "        return;\n",
              "      }\n",
              "      const div = document.createElement('div');\n",
              "      const label = document.createElement('label');\n",
              "      label.textContent = `Downloading \"${filename}\": `;\n",
              "      div.appendChild(label);\n",
              "      const progress = document.createElement('progress');\n",
              "      progress.max = size;\n",
              "      div.appendChild(progress);\n",
              "      document.body.appendChild(div);\n",
              "\n",
              "      const buffers = [];\n",
              "      let downloaded = 0;\n",
              "\n",
              "      const channel = await google.colab.kernel.comms.open(id);\n",
              "      // Send a message to notify the kernel that we're ready.\n",
              "      channel.send({})\n",
              "\n",
              "      for await (const message of channel.messages) {\n",
              "        // Send a message to notify the kernel that we're ready.\n",
              "        channel.send({})\n",
              "        if (message.buffers) {\n",
              "          for (const buffer of message.buffers) {\n",
              "            buffers.push(buffer);\n",
              "            downloaded += buffer.byteLength;\n",
              "            progress.value = downloaded;\n",
              "          }\n",
              "        }\n",
              "      }\n",
              "      const blob = new Blob(buffers, {type: 'application/binary'});\n",
              "      const a = document.createElement('a');\n",
              "      a.href = window.URL.createObjectURL(blob);\n",
              "      a.download = filename;\n",
              "      div.appendChild(a);\n",
              "      a.click();\n",
              "      div.remove();\n",
              "    }\n",
              "  "
            ]
          },
          "metadata": {}
        },
        {
          "output_type": "display_data",
          "data": {
            "text/plain": [
              "<IPython.core.display.Javascript object>"
            ],
            "application/javascript": [
              "download(\"download_45fc711f-97b9-40f9-8880-978512f47340\", \"model.tflite\", 1080)"
            ]
          },
          "metadata": {}
        }
      ],
      "source": [
        "try:\n",
        "  from google.colab import files\n",
        "  files.download(tflite_model_file)\n",
        "except:\n",
        "  pass"
      ]
    }
  ],
  "metadata": {
    "accelerator": "GPU",
    "colab": {
      "name": "tflite_c01_linear_regression.ipynb",
      "toc_visible": true,
      "provenance": [],
      "gpuType": "T4"
    },
    "kernelspec": {
      "display_name": "Python 3",
      "name": "python3"
    },
    "gpuClass": "standard"
  },
  "nbformat": 4,
  "nbformat_minor": 0
}